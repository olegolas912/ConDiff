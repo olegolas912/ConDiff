{
 "cells": [
  {
   "cell_type": "code",
   "execution_count": 2,
   "metadata": {
    "execution": {
     "iopub.execute_input": "2025-05-29T05:11:49.604739Z",
     "iopub.status.busy": "2025-05-29T05:11:49.604090Z",
     "iopub.status.idle": "2025-05-29T05:12:55.034374Z",
     "shell.execute_reply": "2025-05-29T05:12:55.033575Z",
     "shell.execute_reply.started": "2025-05-29T05:11:49.604714Z"
    },
    "trusted": true
   },
   "outputs": [
    {
     "name": "stdout",
     "output_type": "stream",
     "text": [
      "fatal: destination path 'ConDiff' already exists and is not an empty directory.\n",
      "Collecting jax==0.6.0 (from jax[cuda12]==0.6.0)\n",
      "  Downloading jax-0.6.0-py3-none-any.whl.metadata (22 kB)\n",
      "Collecting jax-cuda12-plugin==0.6.0\n",
      "  Downloading jax_cuda12_plugin-0.6.0-cp311-cp311-manylinux2014_x86_64.whl.metadata (1.4 kB)\n",
      "Collecting jaxlib<=0.6.0,>=0.6.0 (from jax==0.6.0->jax[cuda12]==0.6.0)\n",
      "  Downloading jaxlib-0.6.0-cp311-cp311-manylinux2014_x86_64.whl.metadata (1.2 kB)\n",
      "Collecting ml_dtypes>=0.5.0 (from jax==0.6.0->jax[cuda12]==0.6.0)\n",
      "  Downloading ml_dtypes-0.5.1-cp311-cp311-manylinux_2_17_x86_64.manylinux2014_x86_64.whl.metadata (21 kB)\n",
      "Requirement already satisfied: numpy>=1.25 in /usr/local/lib/python3.11/dist-packages (from jax==0.6.0->jax[cuda12]==0.6.0) (1.26.4)\n",
      "Requirement already satisfied: opt_einsum in /usr/local/lib/python3.11/dist-packages (from jax==0.6.0->jax[cuda12]==0.6.0) (3.4.0)\n",
      "Requirement already satisfied: scipy>=1.11.1 in /usr/local/lib/python3.11/dist-packages (from jax==0.6.0->jax[cuda12]==0.6.0) (1.15.2)\n",
      "Collecting jax-cuda12-pjrt==0.6.0 (from jax-cuda12-plugin==0.6.0)\n",
      "  Downloading jax_cuda12_pjrt-0.6.0-py3-none-manylinux2014_x86_64.whl.metadata (492 bytes)\n",
      "Requirement already satisfied: nvidia-cublas-cu12>=12.1.3.1 in /usr/local/lib/python3.11/dist-packages (from jax-cuda12-plugin[with-cuda]<=0.6.0,>=0.6.0; extra == \"cuda12\"->jax[cuda12]==0.6.0) (12.9.0.13)\n",
      "Requirement already satisfied: nvidia-cuda-cupti-cu12>=12.1.105 in /usr/local/lib/python3.11/dist-packages (from jax-cuda12-plugin[with-cuda]<=0.6.0,>=0.6.0; extra == \"cuda12\"->jax[cuda12]==0.6.0) (12.4.127)\n",
      "Collecting nvidia-cuda-nvcc-cu12>=12.6.85 (from jax-cuda12-plugin[with-cuda]<=0.6.0,>=0.6.0; extra == \"cuda12\"->jax[cuda12]==0.6.0)\n",
      "  Downloading nvidia_cuda_nvcc_cu12-12.9.41-py3-none-manylinux2010_x86_64.manylinux_2_12_x86_64.whl.metadata (1.7 kB)\n",
      "Requirement already satisfied: nvidia-cuda-runtime-cu12>=12.1.105 in /usr/local/lib/python3.11/dist-packages (from jax-cuda12-plugin[with-cuda]<=0.6.0,>=0.6.0; extra == \"cuda12\"->jax[cuda12]==0.6.0) (12.4.127)\n",
      "Collecting nvidia-cudnn-cu12<10.0,>=9.8 (from jax-cuda12-plugin[with-cuda]<=0.6.0,>=0.6.0; extra == \"cuda12\"->jax[cuda12]==0.6.0)\n",
      "  Downloading nvidia_cudnn_cu12-9.10.1.4-py3-none-manylinux_2_27_x86_64.whl.metadata (1.8 kB)\n",
      "Requirement already satisfied: nvidia-cufft-cu12>=11.0.2.54 in /usr/local/lib/python3.11/dist-packages (from jax-cuda12-plugin[with-cuda]<=0.6.0,>=0.6.0; extra == \"cuda12\"->jax[cuda12]==0.6.0) (11.4.0.6)\n",
      "Requirement already satisfied: nvidia-cusolver-cu12>=11.4.5.107 in /usr/local/lib/python3.11/dist-packages (from jax-cuda12-plugin[with-cuda]<=0.6.0,>=0.6.0; extra == \"cuda12\"->jax[cuda12]==0.6.0) (11.7.4.40)\n",
      "Requirement already satisfied: nvidia-cusparse-cu12>=12.1.0.106 in /usr/local/lib/python3.11/dist-packages (from jax-cuda12-plugin[with-cuda]<=0.6.0,>=0.6.0; extra == \"cuda12\"->jax[cuda12]==0.6.0) (12.5.9.5)\n",
      "Requirement already satisfied: nvidia-nccl-cu12>=2.18.1 in /usr/local/lib/python3.11/dist-packages (from jax-cuda12-plugin[with-cuda]<=0.6.0,>=0.6.0; extra == \"cuda12\"->jax[cuda12]==0.6.0) (2.21.5)\n",
      "Requirement already satisfied: nvidia-nvjitlink-cu12>=12.1.105 in /usr/local/lib/python3.11/dist-packages (from jax-cuda12-plugin[with-cuda]<=0.6.0,>=0.6.0; extra == \"cuda12\"->jax[cuda12]==0.6.0) (12.9.41)\n",
      "Requirement already satisfied: mkl_fft in /usr/local/lib/python3.11/dist-packages (from numpy>=1.25->jax==0.6.0->jax[cuda12]==0.6.0) (1.3.8)\n",
      "Requirement already satisfied: mkl_random in /usr/local/lib/python3.11/dist-packages (from numpy>=1.25->jax==0.6.0->jax[cuda12]==0.6.0) (1.2.4)\n",
      "Requirement already satisfied: mkl_umath in /usr/local/lib/python3.11/dist-packages (from numpy>=1.25->jax==0.6.0->jax[cuda12]==0.6.0) (0.1.1)\n",
      "Requirement already satisfied: mkl in /usr/local/lib/python3.11/dist-packages (from numpy>=1.25->jax==0.6.0->jax[cuda12]==0.6.0) (2025.1.0)\n",
      "Requirement already satisfied: tbb4py in /usr/local/lib/python3.11/dist-packages (from numpy>=1.25->jax==0.6.0->jax[cuda12]==0.6.0) (2022.1.0)\n",
      "Requirement already satisfied: mkl-service in /usr/local/lib/python3.11/dist-packages (from numpy>=1.25->jax==0.6.0->jax[cuda12]==0.6.0) (2.4.1)\n",
      "Requirement already satisfied: intel-openmp<2026,>=2024 in /usr/local/lib/python3.11/dist-packages (from mkl->numpy>=1.25->jax==0.6.0->jax[cuda12]==0.6.0) (2024.2.0)\n",
      "Requirement already satisfied: tbb==2022.* in /usr/local/lib/python3.11/dist-packages (from mkl->numpy>=1.25->jax==0.6.0->jax[cuda12]==0.6.0) (2022.1.0)\n",
      "Requirement already satisfied: tcmlib==1.* in /usr/local/lib/python3.11/dist-packages (from tbb==2022.*->mkl->numpy>=1.25->jax==0.6.0->jax[cuda12]==0.6.0) (1.3.0)\n",
      "Requirement already satisfied: intel-cmplr-lib-rt in /usr/local/lib/python3.11/dist-packages (from mkl_umath->numpy>=1.25->jax==0.6.0->jax[cuda12]==0.6.0) (2024.2.0)\n",
      "Requirement already satisfied: intel-cmplr-lib-ur==2024.2.0 in /usr/local/lib/python3.11/dist-packages (from intel-openmp<2026,>=2024->mkl->numpy>=1.25->jax==0.6.0->jax[cuda12]==0.6.0) (2024.2.0)\n",
      "Downloading jax-0.6.0-py3-none-any.whl (2.3 MB)\n",
      "\u001b[2K   \u001b[90m━━━━━━━━━━━━━━━━━━━━━━━━━━━━━━━━━━━━━━━━\u001b[0m \u001b[32m2.3/2.3 MB\u001b[0m \u001b[31m35.1 MB/s\u001b[0m eta \u001b[36m0:00:00\u001b[0ma \u001b[36m0:00:01\u001b[0m\n",
      "\u001b[?25hDownloading jax_cuda12_plugin-0.6.0-cp311-cp311-manylinux2014_x86_64.whl (15.8 MB)\n",
      "\u001b[2K   \u001b[90m━━━━━━━━━━━━━━━━━━━━━━━━━━━━━━━━━━━━━━━━\u001b[0m \u001b[32m15.8/15.8 MB\u001b[0m \u001b[31m90.8 MB/s\u001b[0m eta \u001b[36m0:00:00\u001b[0m:00:01\u001b[0m00:01\u001b[0m\n",
      "\u001b[?25hDownloading jax_cuda12_pjrt-0.6.0-py3-none-manylinux2014_x86_64.whl (123.4 MB)\n",
      "\u001b[2K   \u001b[90m━━━━━━━━━━━━━━━━━━━━━━━━━━━━━━━━━━━━━━━━\u001b[0m \u001b[32m123.4/123.4 MB\u001b[0m \u001b[31m13.8 MB/s\u001b[0m eta \u001b[36m0:00:00\u001b[0m:00:01\u001b[0m00:01\u001b[0m\n",
      "\u001b[?25hDownloading jaxlib-0.6.0-cp311-cp311-manylinux2014_x86_64.whl (87.8 MB)\n",
      "\u001b[2K   \u001b[90m━━━━━━━━━━━━━━━━━━━━━━━━━━━━━━━━━━━━━━━━\u001b[0m \u001b[32m87.8/87.8 MB\u001b[0m \u001b[31m11.6 MB/s\u001b[0m eta \u001b[36m0:00:00\u001b[0m00:01\u001b[0m00:01\u001b[0mm\n",
      "\u001b[?25hDownloading ml_dtypes-0.5.1-cp311-cp311-manylinux_2_17_x86_64.manylinux2014_x86_64.whl (4.7 MB)\n",
      "\u001b[2K   \u001b[90m━━━━━━━━━━━━━━━━━━━━━━━━━━━━━━━━━━━━━━━━\u001b[0m \u001b[32m4.7/4.7 MB\u001b[0m \u001b[31m87.3 MB/s\u001b[0m eta \u001b[36m0:00:00\u001b[0m:00:01\u001b[0m\n",
      "\u001b[?25hDownloading nvidia_cuda_nvcc_cu12-12.9.41-py3-none-manylinux2010_x86_64.manylinux_2_12_x86_64.whl (40.6 MB)\n",
      "\u001b[2K   \u001b[90m━━━━━━━━━━━━━━━━━━━━━━━━━━━━━━━━━━━━━━━━\u001b[0m \u001b[32m40.6/40.6 MB\u001b[0m \u001b[31m45.2 MB/s\u001b[0m eta \u001b[36m0:00:00\u001b[0m:00:01\u001b[0m00:01\u001b[0m\n",
      "\u001b[?25hDownloading nvidia_cudnn_cu12-9.10.1.4-py3-none-manylinux_2_27_x86_64.whl (706.8 MB)\n",
      "\u001b[2K   \u001b[90m━━━━━━━━━━━━━━━━━━━━━━━━━━━━━━━━━━━━━━━━\u001b[0m \u001b[32m706.8/706.8 MB\u001b[0m \u001b[31m2.4 MB/s\u001b[0m eta \u001b[36m0:00:00\u001b[0m0:00:01\u001b[0m00:01\u001b[0m\n",
      "\u001b[?25hInstalling collected packages: jax-cuda12-pjrt, nvidia-cudnn-cu12, nvidia-cuda-nvcc-cu12, jax-cuda12-plugin, ml_dtypes, jaxlib, jax\n",
      "  Attempting uninstall: jax-cuda12-pjrt\n",
      "    Found existing installation: jax-cuda12-pjrt 0.5.1\n",
      "    Uninstalling jax-cuda12-pjrt-0.5.1:\n",
      "      Successfully uninstalled jax-cuda12-pjrt-0.5.1\n",
      "  Attempting uninstall: nvidia-cudnn-cu12\n",
      "    Found existing installation: nvidia-cudnn-cu12 9.3.0.75\n",
      "    Uninstalling nvidia-cudnn-cu12-9.3.0.75:\n",
      "      Successfully uninstalled nvidia-cudnn-cu12-9.3.0.75\n",
      "  Attempting uninstall: nvidia-cuda-nvcc-cu12\n",
      "    Found existing installation: nvidia-cuda-nvcc-cu12 12.5.82\n",
      "    Uninstalling nvidia-cuda-nvcc-cu12-12.5.82:\n",
      "      Successfully uninstalled nvidia-cuda-nvcc-cu12-12.5.82\n",
      "  Attempting uninstall: jax-cuda12-plugin\n",
      "    Found existing installation: jax-cuda12-plugin 0.5.1\n",
      "    Uninstalling jax-cuda12-plugin-0.5.1:\n",
      "      Successfully uninstalled jax-cuda12-plugin-0.5.1\n",
      "  Attempting uninstall: ml_dtypes\n",
      "    Found existing installation: ml-dtypes 0.4.1\n",
      "    Uninstalling ml-dtypes-0.4.1:\n",
      "      Successfully uninstalled ml-dtypes-0.4.1\n",
      "  Attempting uninstall: jaxlib\n",
      "    Found existing installation: jaxlib 0.5.1\n",
      "    Uninstalling jaxlib-0.5.1:\n",
      "      Successfully uninstalled jaxlib-0.5.1\n",
      "  Attempting uninstall: jax\n",
      "    Found existing installation: jax 0.5.2\n",
      "    Uninstalling jax-0.5.2:\n",
      "      Successfully uninstalled jax-0.5.2\n",
      "\u001b[31mERROR: pip's dependency resolver does not currently take into account all the packages that are installed. This behaviour is the source of the following dependency conflicts.\n",
      "dopamine-rl 4.1.2 requires gymnasium>=1.0.0, but you have gymnasium 0.29.0 which is incompatible.\n",
      "torch 2.6.0+cu124 requires nvidia-cublas-cu12==12.4.5.8; platform_system == \"Linux\" and platform_machine == \"x86_64\", but you have nvidia-cublas-cu12 12.9.0.13 which is incompatible.\n",
      "torch 2.6.0+cu124 requires nvidia-cudnn-cu12==9.1.0.70; platform_system == \"Linux\" and platform_machine == \"x86_64\", but you have nvidia-cudnn-cu12 9.10.1.4 which is incompatible.\n",
      "torch 2.6.0+cu124 requires nvidia-cufft-cu12==11.2.1.3; platform_system == \"Linux\" and platform_machine == \"x86_64\", but you have nvidia-cufft-cu12 11.4.0.6 which is incompatible.\n",
      "torch 2.6.0+cu124 requires nvidia-curand-cu12==10.3.5.147; platform_system == \"Linux\" and platform_machine == \"x86_64\", but you have nvidia-curand-cu12 10.3.10.19 which is incompatible.\n",
      "torch 2.6.0+cu124 requires nvidia-cusolver-cu12==11.6.1.9; platform_system == \"Linux\" and platform_machine == \"x86_64\", but you have nvidia-cusolver-cu12 11.7.4.40 which is incompatible.\n",
      "torch 2.6.0+cu124 requires nvidia-cusparse-cu12==12.3.1.170; platform_system == \"Linux\" and platform_machine == \"x86_64\", but you have nvidia-cusparse-cu12 12.5.9.5 which is incompatible.\n",
      "torch 2.6.0+cu124 requires nvidia-nvjitlink-cu12==12.4.127; platform_system == \"Linux\" and platform_machine == \"x86_64\", but you have nvidia-nvjitlink-cu12 12.9.41 which is incompatible.\n",
      "tensorflow 2.18.0 requires ml-dtypes<0.5.0,>=0.4.0, but you have ml-dtypes 0.5.1 which is incompatible.\u001b[0m\u001b[31m\n",
      "\u001b[0mSuccessfully installed jax-0.6.0 jax-cuda12-pjrt-0.6.0 jax-cuda12-plugin-0.6.0 jaxlib-0.6.0 ml_dtypes-0.5.1 nvidia-cuda-nvcc-cu12-12.9.41 nvidia-cudnn-cu12-9.10.1.4\n",
      "Collecting equinox\n",
      "  Downloading equinox-0.12.2-py3-none-any.whl.metadata (18 kB)\n",
      "Requirement already satisfied: jax>=0.4.38 in /usr/local/lib/python3.11/dist-packages (from equinox) (0.6.0)\n",
      "Collecting jaxtyping>=0.2.20 (from equinox)\n",
      "  Downloading jaxtyping-0.3.2-py3-none-any.whl.metadata (7.0 kB)\n",
      "Requirement already satisfied: typing-extensions>=4.5.0 in /usr/local/lib/python3.11/dist-packages (from equinox) (4.13.2)\n",
      "Collecting wadler-lindig>=0.1.0 (from equinox)\n",
      "  Downloading wadler_lindig-0.1.6-py3-none-any.whl.metadata (17 kB)\n",
      "Requirement already satisfied: jaxlib<=0.6.0,>=0.6.0 in /usr/local/lib/python3.11/dist-packages (from jax>=0.4.38->equinox) (0.6.0)\n",
      "Requirement already satisfied: ml_dtypes>=0.5.0 in /usr/local/lib/python3.11/dist-packages (from jax>=0.4.38->equinox) (0.5.1)\n",
      "Requirement already satisfied: numpy>=1.25 in /usr/local/lib/python3.11/dist-packages (from jax>=0.4.38->equinox) (1.26.4)\n",
      "Requirement already satisfied: opt_einsum in /usr/local/lib/python3.11/dist-packages (from jax>=0.4.38->equinox) (3.4.0)\n",
      "Requirement already satisfied: scipy>=1.11.1 in /usr/local/lib/python3.11/dist-packages (from jax>=0.4.38->equinox) (1.15.2)\n",
      "Requirement already satisfied: mkl_fft in /usr/local/lib/python3.11/dist-packages (from numpy>=1.25->jax>=0.4.38->equinox) (1.3.8)\n",
      "Requirement already satisfied: mkl_random in /usr/local/lib/python3.11/dist-packages (from numpy>=1.25->jax>=0.4.38->equinox) (1.2.4)\n",
      "Requirement already satisfied: mkl_umath in /usr/local/lib/python3.11/dist-packages (from numpy>=1.25->jax>=0.4.38->equinox) (0.1.1)\n",
      "Requirement already satisfied: mkl in /usr/local/lib/python3.11/dist-packages (from numpy>=1.25->jax>=0.4.38->equinox) (2025.1.0)\n",
      "Requirement already satisfied: tbb4py in /usr/local/lib/python3.11/dist-packages (from numpy>=1.25->jax>=0.4.38->equinox) (2022.1.0)\n",
      "Requirement already satisfied: mkl-service in /usr/local/lib/python3.11/dist-packages (from numpy>=1.25->jax>=0.4.38->equinox) (2.4.1)\n",
      "Requirement already satisfied: intel-openmp<2026,>=2024 in /usr/local/lib/python3.11/dist-packages (from mkl->numpy>=1.25->jax>=0.4.38->equinox) (2024.2.0)\n",
      "Requirement already satisfied: tbb==2022.* in /usr/local/lib/python3.11/dist-packages (from mkl->numpy>=1.25->jax>=0.4.38->equinox) (2022.1.0)\n",
      "Requirement already satisfied: tcmlib==1.* in /usr/local/lib/python3.11/dist-packages (from tbb==2022.*->mkl->numpy>=1.25->jax>=0.4.38->equinox) (1.3.0)\n",
      "Requirement already satisfied: intel-cmplr-lib-rt in /usr/local/lib/python3.11/dist-packages (from mkl_umath->numpy>=1.25->jax>=0.4.38->equinox) (2024.2.0)\n",
      "Requirement already satisfied: intel-cmplr-lib-ur==2024.2.0 in /usr/local/lib/python3.11/dist-packages (from intel-openmp<2026,>=2024->mkl->numpy>=1.25->jax>=0.4.38->equinox) (2024.2.0)\n",
      "Downloading equinox-0.12.2-py3-none-any.whl (177 kB)\n",
      "\u001b[2K   \u001b[90m━━━━━━━━━━━━━━━━━━━━━━━━━━━━━━━━━━━━━━━━\u001b[0m \u001b[32m177.2/177.2 kB\u001b[0m \u001b[31m6.7 MB/s\u001b[0m eta \u001b[36m0:00:00\u001b[0m\n",
      "\u001b[?25hDownloading jaxtyping-0.3.2-py3-none-any.whl (55 kB)\n",
      "\u001b[2K   \u001b[90m━━━━━━━━━━━━━━━━━━━━━━━━━━━━━━━━━━━━━━━━\u001b[0m \u001b[32m55.4/55.4 kB\u001b[0m \u001b[31m4.0 MB/s\u001b[0m eta \u001b[36m0:00:00\u001b[0m\n",
      "\u001b[?25hDownloading wadler_lindig-0.1.6-py3-none-any.whl (20 kB)\n",
      "Installing collected packages: wadler-lindig, jaxtyping, equinox\n",
      "Successfully installed equinox-0.12.2 jaxtyping-0.3.2 wadler-lindig-0.1.6\n",
      "Collecting parafields\n",
      "  Downloading parafields-1.0.2-cp311-cp311-manylinux_2_17_x86_64.manylinux2014_x86_64.whl.metadata (6.1 kB)\n",
      "Collecting jsonschema<4 (from parafields)\n",
      "  Downloading jsonschema-3.2.0-py2.py3-none-any.whl.metadata (7.8 kB)\n",
      "Requirement already satisfied: matplotlib in /usr/local/lib/python3.11/dist-packages (from parafields) (3.7.2)\n",
      "Requirement already satisfied: numpy in /usr/local/lib/python3.11/dist-packages (from parafields) (1.26.4)\n",
      "Requirement already satisfied: Pillow in /usr/local/lib/python3.11/dist-packages (from parafields) (11.1.0)\n",
      "Requirement already satisfied: attrs>=17.4.0 in /usr/local/lib/python3.11/dist-packages (from jsonschema<4->parafields) (25.3.0)\n",
      "Collecting pyrsistent>=0.14.0 (from jsonschema<4->parafields)\n",
      "  Downloading pyrsistent-0.20.0-cp311-cp311-manylinux_2_17_x86_64.manylinux2014_x86_64.whl.metadata (27 kB)\n",
      "Requirement already satisfied: setuptools in /usr/local/lib/python3.11/dist-packages (from jsonschema<4->parafields) (75.2.0)\n",
      "Requirement already satisfied: six>=1.11.0 in /usr/local/lib/python3.11/dist-packages (from jsonschema<4->parafields) (1.17.0)\n",
      "Requirement already satisfied: contourpy>=1.0.1 in /usr/local/lib/python3.11/dist-packages (from matplotlib->parafields) (1.3.1)\n",
      "Requirement already satisfied: cycler>=0.10 in /usr/local/lib/python3.11/dist-packages (from matplotlib->parafields) (0.12.1)\n",
      "Requirement already satisfied: fonttools>=4.22.0 in /usr/local/lib/python3.11/dist-packages (from matplotlib->parafields) (4.57.0)\n",
      "Requirement already satisfied: kiwisolver>=1.0.1 in /usr/local/lib/python3.11/dist-packages (from matplotlib->parafields) (1.4.8)\n",
      "Requirement already satisfied: packaging>=20.0 in /usr/local/lib/python3.11/dist-packages (from matplotlib->parafields) (25.0)\n",
      "Requirement already satisfied: pyparsing<3.1,>=2.3.1 in /usr/local/lib/python3.11/dist-packages (from matplotlib->parafields) (3.0.9)\n",
      "Requirement already satisfied: python-dateutil>=2.7 in /usr/local/lib/python3.11/dist-packages (from matplotlib->parafields) (2.9.0.post0)\n",
      "Requirement already satisfied: mkl_fft in /usr/local/lib/python3.11/dist-packages (from numpy->parafields) (1.3.8)\n",
      "Requirement already satisfied: mkl_random in /usr/local/lib/python3.11/dist-packages (from numpy->parafields) (1.2.4)\n",
      "Requirement already satisfied: mkl_umath in /usr/local/lib/python3.11/dist-packages (from numpy->parafields) (0.1.1)\n",
      "Requirement already satisfied: mkl in /usr/local/lib/python3.11/dist-packages (from numpy->parafields) (2025.1.0)\n",
      "Requirement already satisfied: tbb4py in /usr/local/lib/python3.11/dist-packages (from numpy->parafields) (2022.1.0)\n",
      "Requirement already satisfied: mkl-service in /usr/local/lib/python3.11/dist-packages (from numpy->parafields) (2.4.1)\n",
      "Requirement already satisfied: intel-openmp<2026,>=2024 in /usr/local/lib/python3.11/dist-packages (from mkl->numpy->parafields) (2024.2.0)\n",
      "Requirement already satisfied: tbb==2022.* in /usr/local/lib/python3.11/dist-packages (from mkl->numpy->parafields) (2022.1.0)\n",
      "Requirement already satisfied: tcmlib==1.* in /usr/local/lib/python3.11/dist-packages (from tbb==2022.*->mkl->numpy->parafields) (1.3.0)\n",
      "Requirement already satisfied: intel-cmplr-lib-rt in /usr/local/lib/python3.11/dist-packages (from mkl_umath->numpy->parafields) (2024.2.0)\n",
      "Requirement already satisfied: intel-cmplr-lib-ur==2024.2.0 in /usr/local/lib/python3.11/dist-packages (from intel-openmp<2026,>=2024->mkl->numpy->parafields) (2024.2.0)\n",
      "Downloading parafields-1.0.2-cp311-cp311-manylinux_2_17_x86_64.manylinux2014_x86_64.whl (3.1 MB)\n",
      "\u001b[2K   \u001b[90m━━━━━━━━━━━━━━━━━━━━━━━━━━━━━━━━━━━━━━━━\u001b[0m \u001b[32m3.1/3.1 MB\u001b[0m \u001b[31m44.8 MB/s\u001b[0m eta \u001b[36m0:00:00\u001b[0m00:01\u001b[0m00:01\u001b[0m\n",
      "\u001b[?25hDownloading jsonschema-3.2.0-py2.py3-none-any.whl (56 kB)\n",
      "\u001b[2K   \u001b[90m━━━━━━━━━━━━━━━━━━━━━━━━━━━━━━━━━━━━━━━━\u001b[0m \u001b[32m56.3/56.3 kB\u001b[0m \u001b[31m3.4 MB/s\u001b[0m eta \u001b[36m0:00:00\u001b[0m\n",
      "\u001b[?25hDownloading pyrsistent-0.20.0-cp311-cp311-manylinux_2_17_x86_64.manylinux2014_x86_64.whl (120 kB)\n",
      "\u001b[2K   \u001b[90m━━━━━━━━━━━━━━━━━━━━━━━━━━━━━━━━━━━━━━━━\u001b[0m \u001b[32m120.0/120.0 kB\u001b[0m \u001b[31m8.4 MB/s\u001b[0m eta \u001b[36m0:00:00\u001b[0m\n",
      "\u001b[?25hInstalling collected packages: pyrsistent, jsonschema, parafields\n",
      "  Attempting uninstall: jsonschema\n",
      "    Found existing installation: jsonschema 4.23.0\n",
      "    Uninstalling jsonschema-4.23.0:\n",
      "      Successfully uninstalled jsonschema-4.23.0\n",
      "\u001b[31mERROR: pip's dependency resolver does not currently take into account all the packages that are installed. This behaviour is the source of the following dependency conflicts.\n",
      "jupyterlab-server 2.27.3 requires jsonschema>=4.18.0, but you have jsonschema 3.2.0 which is incompatible.\n",
      "jupyter-events 0.12.0 requires jsonschema[format-nongpl]>=4.18.0, but you have jsonschema 3.2.0 which is incompatible.\u001b[0m\u001b[31m\n",
      "\u001b[0mSuccessfully installed jsonschema-3.2.0 parafields-1.0.2 pyrsistent-0.20.0\n",
      "/kaggle/working/ConDiff\n"
     ]
    }
   ],
   "source": [
    "!git clone https://github.com/olegolas912/ConDiff.git\n",
    "# !pip install -r requirements.txt\n",
    "!pip install --upgrade \"jax[cuda12]==0.6.0\" jax-cuda12-plugin==0.6.0\n",
    "!pip install equinox\n",
    "!pip install parafields\n",
    "%cd /kaggle/working/ConDiff"
   ]
  },
  {
   "cell_type": "code",
   "execution_count": 3,
   "metadata": {
    "execution": {
     "iopub.execute_input": "2025-05-29T05:12:55.036287Z",
     "iopub.status.busy": "2025-05-29T05:12:55.036019Z",
     "iopub.status.idle": "2025-05-29T05:12:55.156332Z",
     "shell.execute_reply": "2025-05-29T05:12:55.155356Z",
     "shell.execute_reply.started": "2025-05-29T05:12:55.036260Z"
    },
    "trusted": true
   },
   "outputs": [
    {
     "name": "stdout",
     "output_type": "stream",
     "text": [
      "rm: cannot remove '/kaggle/working/ConDiff/ConDiff/poisson_grid128': No such file or directory\n"
     ]
    }
   ],
   "source": [
    "!rm -r /kaggle/working/ConDiff/ConDiff/poisson_grid128"
   ]
  },
  {
   "cell_type": "code",
   "execution_count": 4,
   "metadata": {
    "execution": {
     "iopub.execute_input": "2025-05-29T05:12:55.157988Z",
     "iopub.status.busy": "2025-05-29T05:12:55.157754Z",
     "iopub.status.idle": "2025-05-29T05:15:31.816918Z",
     "shell.execute_reply": "2025-05-29T05:15:31.816271Z",
     "shell.execute_reply.started": "2025-05-29T05:12:55.157961Z"
    },
    "trusted": true
   },
   "outputs": [],
   "source": [
    "import jax.numpy as jnp\n",
    "import os\n",
    "import jax\n",
    "\n",
    "# jax.config.update(\"jax_enable_x64\", True)\n",
    "# jax.config.update('jax_platforms', 'cpu')\n",
    "# os.environ[\"CUDA_VISIBLE_DEVICES\"] = ''\n",
    "# os.environ[\"JAX_PLATFORMS\"] = 'cpu'\n",
    "\n",
    "from condiff import multiple_poisson, multiple_diffusion\n",
    "path = \"/kaggle/working/ConDiff\"\n",
    "try:\n",
    "    os.mkdir(os.path.join(path, 'ConDiff'))\n",
    "except:\n",
    "    pass\n",
    "save_dir = os.path.join(path, 'ConDiff')\n",
    "# Parameters for Poisson and diffusion euqtions\n",
    "N_train = 1000\n",
    "N_test = 200\n",
    "grid_ls = [64, 128]\n",
    "\n",
    "# Parameters only for diffusion equation\n",
    "cov_model_ls = ['cubic', 'exponential', 'gaussian']\n",
    "boundaries_ls = [                                          # Contrast boundaries to control complexity\n",
    "    [[5, 15], [50, 250], [600, 1000], [80000, 100000]],\n",
    "    [[5, 15], [50, 250], [600, 1000], [80000, 100000]]\n",
    "]\n",
    "var_ls = [0.1, 0.4, 1.0, 2.0]\n",
    "multiple_poisson(save_dir, N_train, N_test, grid_ls, seed_rng=42)"
   ]
  },
  {
   "cell_type": "code",
   "execution_count": 5,
   "metadata": {
    "execution": {
     "iopub.execute_input": "2025-05-29T05:15:31.818195Z",
     "iopub.status.busy": "2025-05-29T05:15:31.817794Z",
     "iopub.status.idle": "2025-05-29T05:15:31.954762Z",
     "shell.execute_reply": "2025-05-29T05:15:31.953804Z",
     "shell.execute_reply.started": "2025-05-29T05:15:31.818172Z"
    },
    "trusted": true
   },
   "outputs": [
    {
     "name": "stdout",
     "output_type": "stream",
     "text": [
      "poisson_grid128_test.h5  poisson_grid128_train.h5\n",
      "/kaggle/working/ConDiff\n"
     ]
    }
   ],
   "source": [
    "!ls\n",
    "%cd /kaggle/working/ConDiff"
   ]
  },
  {
   "cell_type": "code",
   "execution_count": null,
   "metadata": {
    "execution": {
     "iopub.execute_input": "2025-05-29T05:15:31.957507Z",
     "iopub.status.busy": "2025-05-29T05:15:31.957247Z",
     "iopub.status.idle": "2025-05-29T05:15:35.751907Z",
     "shell.execute_reply": "2025-05-29T05:15:35.751271Z",
     "shell.execute_reply.started": "2025-05-29T05:15:31.957481Z"
    },
    "trusted": true
   },
   "outputs": [],
   "source": [
    "import torch\n",
    "import torch.nn as nn\n",
    "import torch.nn.functional as F\n",
    "\n",
    "class DoubleConv(nn.Module):\n",
    "    def __init__(self, in_ch, out_ch):\n",
    "        super().__init__()\n",
    "        self.block = nn.Sequential(\n",
    "            nn.Conv2d(in_ch, out_ch, 3, padding=1, bias=False),\n",
    "            nn.BatchNorm2d(out_ch),\n",
    "            nn.ReLU(inplace=True),\n",
    "            nn.Conv2d(out_ch, out_ch, 3, padding=1, bias=False),\n",
    "            nn.BatchNorm2d(out_ch),\n",
    "            nn.ReLU(inplace=True),\n",
    "        )\n",
    "\n",
    "    def forward(self, x):\n",
    "        return self.block(x)\n",
    "\n",
    "class Down(nn.Module):\n",
    "    def __init__(self, in_ch, out_ch):\n",
    "        super().__init__()\n",
    "        self.op = nn.Sequential(nn.MaxPool2d(2), DoubleConv(in_ch, out_ch))\n",
    "\n",
    "    def forward(self, x):\n",
    "        return self.op(x)\n",
    "\n",
    "class Up(nn.Module):\n",
    "    def __init__(self, in_ch, out_ch, bilinear=True):\n",
    "        super().__init__()\n",
    "        if bilinear:\n",
    "            self.up = nn.Upsample(scale_factor=2, mode=\"bilinear\", align_corners=True)\n",
    "        else:\n",
    "            self.up = nn.ConvTranspose2d(in_ch // 2, in_ch // 2, 2, stride=2)\n",
    "        self.conv = DoubleConv(in_ch, out_ch)\n",
    "\n",
    "    def forward(self, x1, x2):\n",
    "        x1 = self.up(x1)\n",
    "        diff_y = x2.size(2) - x1.size(2)\n",
    "        diff_x = x2.size(3) - x1.size(3)\n",
    "        x1 = F.pad(x1, [diff_x // 2, diff_x - diff_x // 2,\n",
    "                        diff_y // 2, diff_y - diff_y // 2])\n",
    "        x = torch.cat([x2, x1], dim=1)\n",
    "        return self.conv(x)\n",
    "\n",
    "class OutConv(nn.Module):\n",
    "    def __init__(self, in_ch, out_ch):\n",
    "        super().__init__()\n",
    "        self.conv = nn.Conv2d(in_ch, out_ch, kernel_size=1)\n",
    "\n",
    "    def forward(self, x):\n",
    "        return self.conv(x)\n",
    "\n",
    "class UNet2d(nn.Module):\n",
    "    def __init__(self, in_channels=1, out_channels=1,\n",
    "                 init_features=32, depth=4, bilinear=True):\n",
    "        super().__init__()\n",
    "        feats = [init_features * (2 ** i) for i in range(depth + 1)]\n",
    "\n",
    "        self.inc  = DoubleConv(in_channels, feats[0])\n",
    "        self.down = nn.ModuleList([Down(feats[i], feats[i + 1]) for i in range(depth)])\n",
    "\n",
    "        self.up = nn.ModuleList([\n",
    "            Up(feats[i + 1] + feats[i], feats[i], bilinear)\n",
    "            for i in range(depth - 1, -1, -1)\n",
    "        ])\n",
    "\n",
    "        self.outc = OutConv(feats[0], out_channels)\n",
    "\n",
    "    def forward(self, x):\n",
    "        skips = []\n",
    "        x = self.inc(x)\n",
    "        skips.append(x)\n",
    "        for d in self.down:\n",
    "            x = d(x)\n",
    "            skips.append(x)\n",
    "\n",
    "        for i, u in enumerate(self.up):\n",
    "            x = u(x, skips[-(i + 2)])\n",
    "        return self.outc(x)\n",
    "\n",
    "def get_UNet_pt(in_channels=1, out_channels=1,\n",
    "                init_features=32, depth=4, bilinear=True,\n",
    "                device=\"cuda\" if torch.cuda.is_available() else \"cpu\"):\n",
    "    model = UNet2d(in_channels, out_channels, init_features, depth, bilinear)\n",
    "    return model.to(device)\n"
   ]
  },
  {
   "cell_type": "code",
   "execution_count": 7,
   "metadata": {
    "execution": {
     "iopub.execute_input": "2025-05-29T05:15:35.752940Z",
     "iopub.status.busy": "2025-05-29T05:15:35.752598Z",
     "iopub.status.idle": "2025-05-29T05:15:35.756478Z",
     "shell.execute_reply": "2025-05-29T05:15:35.755731Z",
     "shell.execute_reply.started": "2025-05-29T05:15:35.752920Z"
    },
    "trusted": true
   },
   "outputs": [],
   "source": [
    "import warnings\n",
    "warnings.filterwarnings('ignore')"
   ]
  },
  {
   "cell_type": "code",
   "execution_count": 8,
   "metadata": {
    "execution": {
     "iopub.execute_input": "2025-05-29T05:15:35.757516Z",
     "iopub.status.busy": "2025-05-29T05:15:35.757279Z",
     "iopub.status.idle": "2025-05-29T05:15:36.048454Z",
     "shell.execute_reply": "2025-05-29T05:15:36.047861Z",
     "shell.execute_reply.started": "2025-05-29T05:15:35.757490Z"
    },
    "trusted": true
   },
   "outputs": [],
   "source": [
    "model = get_UNet_pt(in_channels=1, out_channels=1)\n",
    "CHECKPOINT_PATH = \"unet_poisson64.pth\""
   ]
  },
  {
   "cell_type": "code",
   "execution_count": null,
   "metadata": {
    "execution": {
     "iopub.execute_input": "2025-05-29T05:15:36.049390Z",
     "iopub.status.busy": "2025-05-29T05:15:36.049177Z",
     "iopub.status.idle": "2025-05-29T05:15:36.056537Z",
     "shell.execute_reply": "2025-05-29T05:15:36.055766Z",
     "shell.execute_reply.started": "2025-05-29T05:15:36.049373Z"
    },
    "trusted": true
   },
   "outputs": [],
   "source": [
    "def relative_error(pred, targ):\n",
    "    return ((pred - targ).view(pred.size(0), -1).norm(dim=1) /\n",
    "            targ.view(targ.size(0), -1).norm(dim=1))\n",
    "\n",
    "def save_checkpoint(model, optimizer, epoch, history, path=CHECKPOINT_PATH):\n",
    "    torch.save({\n",
    "        \"epoch\":   epoch,\n",
    "        \"model\":   model.state_dict(),\n",
    "        \"optim\":   optimizer.state_dict(),\n",
    "        \"history\": history,\n",
    "    }, path)\n",
    "\n",
    "def load_checkpoint(model, optimizer=None, path=CHECKPOINT_PATH, map_location=\"cpu\"):\n",
    "    ckpt = torch.load(path, map_location=map_location)\n",
    "    model.load_state_dict(ckpt[\"model\"])\n",
    "    if optimizer is not None:\n",
    "        optimizer.load_state_dict(ckpt[\"optim\"])\n",
    "    return ckpt[\"epoch\"], ckpt[\"history\"]\n",
    "\n",
    "def huber_relative_error(pred, targ, delta=0.01):\n",
    "    diff = pred - targ\n",
    "    abs_diff = diff.abs()\n",
    "    quad = torch.clamp(abs_diff, max=delta)\n",
    "    lin  = abs_diff - quad\n",
    "    huber = 0.5 * quad.pow(2) / delta + lin           # SmoothL1 вручную\n",
    "    per_sample = huber.view(huber.size(0), -1).sum(dim=1)\n",
    "    denom = targ.view(targ.size(0), -1).norm(dim=1) + 1e-8\n",
    "    return per_sample / denom\n"
   ]
  },
  {
   "cell_type": "code",
   "execution_count": null,
   "metadata": {
    "execution": {
     "iopub.execute_input": "2025-05-29T05:15:36.057506Z",
     "iopub.status.busy": "2025-05-29T05:15:36.057311Z",
     "iopub.status.idle": "2025-05-29T05:15:36.195572Z",
     "shell.execute_reply": "2025-05-29T05:15:36.194808Z",
     "shell.execute_reply.started": "2025-05-29T05:15:36.057490Z"
    },
    "trusted": true
   },
   "outputs": [],
   "source": [
    "from tqdm.auto import tqdm\n",
    "import torch, math\n",
    "\n",
    "def train_model_pt(\n",
    "    model_data,\n",
    "    features,\n",
    "    targets,\n",
    "    spec,\n",
    "    device=\"cuda\" if torch.cuda.is_available() else \"cpu\",\n",
    "    use_huber=False,\n",
    "    mixed_precision=True,\n",
    "    grad_clip=1.0,\n",
    "):\n",
    "    model = model_data[\"model\"].to(device)\n",
    "    feats_tr, feats_ts = (f.to(device) for f in features)\n",
    "    targs_tr, targs_ts = (t.to(device) for t in targets)\n",
    "\n",
    "    opt = torch.optim.AdamW(\n",
    "        model.parameters(),\n",
    "        lr=spec[\"learning_rate\"],\n",
    "        weight_decay=spec[\"weight_decay\"],\n",
    "    )\n",
    "\n",
    "    steps_per_epoch = math.ceil(feats_tr.size(0) / spec[\"batch_size\"])\n",
    "    total_steps     = spec[\"N_epochs\"] * steps_per_epoch\n",
    "    warmup_steps    = int(0.05 * total_steps)\n",
    "\n",
    "    def lr_lambda(step):\n",
    "        if step < warmup_steps:\n",
    "            return step / max(1, warmup_steps)\n",
    "        progress = (step - warmup_steps) / max(1, total_steps - warmup_steps)\n",
    "        return 0.5 * (1 + math.cos(math.pi * progress))      # cosine ↓ to 0\n",
    "\n",
    "    scheduler = torch.optim.lr_scheduler.LambdaLR(opt, lr_lambda)\n",
    "\n",
    "    loss_fn = huber_relative_error if use_huber else relative_error\n",
    "    scaler  = torch.cuda.amp.GradScaler(enabled=mixed_precision)\n",
    "\n",
    "    best_test = float(\"inf\")\n",
    "    hist_train, hist_test = [], []\n",
    "\n",
    "    global_step = 0\n",
    "    epoch_bar = tqdm(range(1, spec[\"N_epochs\"] + 1), desc=\"Epochs\", position=0)\n",
    "\n",
    "    for epoch in epoch_bar:\n",
    "        model.train()\n",
    "        perm = torch.randperm(feats_tr.size(0), device=device)\n",
    "\n",
    "        batch_bar = tqdm(range(0, len(perm), spec[\"batch_size\"]),\n",
    "                         desc=f\"e{epoch}\", leave=False, position=1)\n",
    "\n",
    "        for i in batch_bar:\n",
    "            idx = perm[i : i + spec[\"batch_size\"]]\n",
    "            x, y = feats_tr[idx], targs_tr[idx]\n",
    "\n",
    "            with torch.cuda.amp.autocast(enabled=mixed_precision):\n",
    "                pred = model(x)\n",
    "                loss = loss_fn(pred, y).mean()\n",
    "\n",
    "            scaler.scale(loss).backward()\n",
    "            if grad_clip is not None:\n",
    "                scaler.unscale_(opt)\n",
    "                torch.nn.utils.clip_grad_norm_(model.parameters(), grad_clip)\n",
    "\n",
    "            scaler.step(opt)\n",
    "            scaler.update()\n",
    "            scheduler.step()\n",
    "            opt.zero_grad(set_to_none=True)\n",
    "\n",
    "            global_step += 1\n",
    "            batch_bar.set_postfix(\n",
    "                train_loss=f\"{loss.item():.3e}\",\n",
    "                lr=scheduler.get_last_lr()[0]\n",
    "            )\n",
    "\n",
    "        model.eval()\n",
    "        with torch.no_grad(), torch.cuda.amp.autocast(enabled=mixed_precision):\n",
    "            val_pred  = model(feats_ts)\n",
    "            val_loss  = loss_fn(val_pred, targs_ts).mean()\n",
    "\n",
    "        hist_train.append(loss.item())\n",
    "        hist_test.append(val_loss.item())\n",
    "        epoch_bar.set_postfix(\n",
    "            train=f\"{loss.item():.3e}\",\n",
    "            test=f\"{val_loss.item():.3e}\",\n",
    "            lr=scheduler.get_last_lr()[0]\n",
    "        )\n",
    "\n",
    "        if val_loss < best_test:\n",
    "            best_test = val_loss\n",
    "            save_checkpoint(\n",
    "                model, opt, epoch,\n",
    "                {\"train\": hist_train, \"test\": hist_test},\n",
    "                path=CHECKPOINT_PATH\n",
    "            )\n",
    "\n",
    "    return model, hist_train, hist_test\n"
   ]
  },
  {
   "cell_type": "code",
   "execution_count": null,
   "metadata": {
    "execution": {
     "iopub.execute_input": "2025-05-29T05:15:36.197021Z",
     "iopub.status.busy": "2025-05-29T05:15:36.196425Z",
     "iopub.status.idle": "2025-05-29T05:15:36.201231Z",
     "shell.execute_reply": "2025-05-29T05:15:36.200473Z",
     "shell.execute_reply.started": "2025-05-29T05:15:36.196989Z"
    },
    "trusted": true
   },
   "outputs": [],
   "source": [
    "def get_UNet(grid: int, device: torch.device):\n",
    "\n",
    "    model = get_UNet_pt(\n",
    "        in_channels  = 1,\n",
    "        out_channels = 1,\n",
    "        init_features = 32,     \n",
    "        depth         = 4,      \n",
    "        device        = device,\n",
    "    )\n",
    "\n",
    "    spec = dict(\n",
    "        N_epochs      = 200,  \n",
    "        batch_size    = 16,\n",
    "        learning_rate = 1e-3,\n",
    "        weight_decay  = 1e-4,\n",
    "    )\n",
    "    return {\"model\": model}, spec\n",
    "\n",
    "\n"
   ]
  },
  {
   "cell_type": "code",
   "execution_count": null,
   "metadata": {
    "execution": {
     "iopub.execute_input": "2025-05-29T05:15:36.202152Z",
     "iopub.status.busy": "2025-05-29T05:15:36.201899Z",
     "iopub.status.idle": "2025-05-29T05:15:36.217847Z",
     "shell.execute_reply": "2025-05-29T05:15:36.217308Z",
     "shell.execute_reply.started": "2025-05-29T05:15:36.202135Z"
    },
    "trusted": true
   },
   "outputs": [],
   "source": [
    "def get_results(grid, type_of_pde=\"poisson\", direction_to_save=\"ConDiff\"):\n",
    "    import load_ConDiff\n",
    "    device = torch.device(\"cuda\" if torch.cuda.is_available() else \"cpu\")\n",
    "\n",
    "    (feat_tr, targ_tr), (feat_ts, targ_ts) = load_ConDiff.get_datasets(\n",
    "        direction_to_save, type_of_pde, grid\n",
    "    )\n",
    "    feat_tr = torch.tensor(feat_tr, dtype=torch.float32, device=device)\n",
    "    targ_tr = torch.tensor(targ_tr, dtype=torch.float32, device=device)\n",
    "    feat_ts = torch.tensor(feat_ts, dtype=torch.float32, device=device)\n",
    "    targ_ts = torch.tensor(targ_ts, dtype=torch.float32, device=device)\n",
    "\n",
    "    model_data, spec = get_UNet(grid, device)   # ← было get_SNO\n",
    "    model, h_train, h_test = train_model_pt(\n",
    "        model_data,\n",
    "        [feat_tr, feat_ts],\n",
    "        [targ_tr, targ_ts],\n",
    "        spec,\n",
    "        device,\n",
    "        use_huber=True,\n",
    "    )\n",
    "\n",
    "    model.eval()\n",
    "    with torch.no_grad():\n",
    "        pred = model(feat_ts)\n",
    "        err  = relative_error(pred, targ_ts)\n",
    "\n",
    "    data = {\n",
    "        \"history_train\": h_train,\n",
    "        \"history_test\":  h_test,\n",
    "        \"test_error_mean\": err.mean().item(),\n",
    "        \"test_error_std\":  err.std().item(),\n",
    "    }\n",
    "    return data, model, model_data, feat_ts, targ_ts\n"
   ]
  },
  {
   "cell_type": "code",
   "execution_count": null,
   "metadata": {
    "execution": {
     "iopub.execute_input": "2025-05-29T05:15:36.218836Z",
     "iopub.status.busy": "2025-05-29T05:15:36.218633Z",
     "iopub.status.idle": "2025-05-29T05:15:36.236666Z",
     "shell.execute_reply": "2025-05-29T05:15:36.235953Z",
     "shell.execute_reply.started": "2025-05-29T05:15:36.218820Z"
    },
    "trusted": true
   },
   "outputs": [],
   "source": [
    "import matplotlib.pyplot as plt\n",
    "import numpy as np\n",
    "try:\n",
    "    from IPython import display\n",
    "    IN_NOTEBOOK = True\n",
    "except ImportError:\n",
    "    IN_NOTEBOOK = False\n",
    "\n",
    "def plot_results(model, history, features_test, targets_test):\n",
    "    model.eval()\n",
    "    with torch.no_grad():\n",
    "        pred = model(features_test).cpu().numpy()[:, 0]   # (N,H,W)\n",
    "\n",
    "    targ = targets_test.cpu().numpy()[:, 0]\n",
    "\n",
    "    if IN_NOTEBOOK:\n",
    "        display.clear_output(wait=True)\n",
    "\n",
    "    plt.rcParams[\"font.family\"] = \"serif\"\n",
    "\n",
    "    fig, ax = plt.subplots(1, 3, figsize=(15, 4))\n",
    "\n",
    "    # кривая потерь\n",
    "    ax[0].set_title(\"Loss\")\n",
    "    ax[0].set_yscale(\"log\")\n",
    "    ax[0].plot(history[\"history_train\"], \"-\",  color=\"red\",   label=\"train\")\n",
    "    ax[0].plot(history[\"history_test\"],  \"-.\", color=\"green\", label=\"test\")\n",
    "    ax[0].legend()\n",
    "    ax[0].grid(ls=\"--\", alpha=0.5)\n",
    "    ax[0].set_xlabel(\"Epoch\"); ax[0].set_ylabel(\"Relative error\")\n",
    "    ax[0].spines[[\"top\", \"right\"]].set_visible(False)\n",
    "\n",
    "    # предсказание и таргет\n",
    "    im1 = ax[1].imshow(pred[0], cmap=\"viridis\")\n",
    "    ax[1].set_title(\"Prediction\")\n",
    "    plt.colorbar(im1, ax=ax[1], fraction=0.046)\n",
    "\n",
    "    im2 = ax[2].imshow(targ[0], cmap=\"viridis\")\n",
    "    ax[2].set_title(\"Target\")\n",
    "    plt.colorbar(im2, ax=ax[2], fraction=0.046)\n",
    "\n",
    "    plt.tight_layout()\n",
    "    plt.show()\n"
   ]
  },
  {
   "cell_type": "code",
   "execution_count": 14,
   "metadata": {
    "execution": {
     "iopub.execute_input": "2025-05-29T05:15:36.237609Z",
     "iopub.status.busy": "2025-05-29T05:15:36.237423Z",
     "iopub.status.idle": "2025-05-29T05:15:36.254251Z",
     "shell.execute_reply": "2025-05-29T05:15:36.253566Z",
     "shell.execute_reply.started": "2025-05-29T05:15:36.237594Z"
    },
    "trusted": true
   },
   "outputs": [
    {
     "name": "stdout",
     "output_type": "stream",
     "text": [
      "/kaggle/working/ConDiff\n"
     ]
    }
   ],
   "source": [
    "%cd /kaggle/working/ConDiff"
   ]
  },
  {
   "cell_type": "code",
   "execution_count": null,
   "metadata": {
    "execution": {
     "iopub.execute_input": "2025-05-29T05:15:36.256600Z",
     "iopub.status.busy": "2025-05-29T05:15:36.256424Z",
     "iopub.status.idle": "2025-05-29T05:15:36.269225Z",
     "shell.execute_reply": "2025-05-29T05:15:36.268486Z",
     "shell.execute_reply.started": "2025-05-29T05:15:36.256586Z"
    },
    "trusted": true
   },
   "outputs": [
    {
     "name": "stdout",
     "output_type": "stream",
     "text": [
      "✓ poisson_grid64 уже на месте или не найден\n",
      "✓ poisson_grid128 уже на месте или не найден\n",
      "\n",
      "📂  Структура каталогов поправлена.\n"
     ]
    }
   ],
   "source": [
    "import os, shutil, glob, pathlib\n",
    "\n",
    "ROOT = \"/kaggle/working/ConDiff\"\n",
    "\n",
    "extra_dirs = [\"poisson_grid64\", \"poisson_grid128\"]\n",
    "for name in extra_dirs:\n",
    "    src = os.path.join(ROOT,\"ConDiff\", name)\n",
    "    dst = os.path.join(ROOT, \"ConDiff\", \"df\",\"ConDiff\", name)\n",
    "    if os.path.exists(src) and not os.path.exists(dst):\n",
    "        print(f\"→ move {src}  →  {dst}\")\n",
    "        shutil.move(src, dst)\n",
    "    else:\n",
    "        print(f\"✓ {name} уже на месте или не найден\")\n",
    "\n",
    "print(\"\\n📂  Структура каталогов поправлена.\")\n"
   ]
  },
  {
   "cell_type": "code",
   "execution_count": null,
   "metadata": {
    "execution": {
     "iopub.execute_input": "2025-05-29T05:15:36.270138Z",
     "iopub.status.busy": "2025-05-29T05:15:36.269912Z",
     "iopub.status.idle": "2025-05-29T05:15:36.285106Z",
     "shell.execute_reply": "2025-05-29T05:15:36.284511Z",
     "shell.execute_reply.started": "2025-05-29T05:15:36.270122Z"
    },
    "trusted": true
   },
   "outputs": [],
   "source": [
    "def huber_relative_error(pred, targ, delta=0.01):\n",
    "    diff = pred - targ\n",
    "    abs_diff = diff.abs()\n",
    "    quad = torch.clamp(abs_diff, max=delta)\n",
    "    lin  = abs_diff - quad\n",
    "    huber = 0.5 * quad.pow(2) / delta + lin\n",
    "    per_sample = huber.view(huber.size(0), -1).sum(dim=1)\n",
    "    denom = targ.view(targ.size(0), -1).norm(dim=1) + 1e-8\n",
    "    return per_sample / denom\n"
   ]
  },
  {
   "cell_type": "code",
   "execution_count": 17,
   "metadata": {
    "execution": {
     "iopub.execute_input": "2025-05-29T05:15:36.285897Z",
     "iopub.status.busy": "2025-05-29T05:15:36.285700Z",
     "iopub.status.idle": "2025-05-29T05:15:36.298996Z",
     "shell.execute_reply": "2025-05-29T05:15:36.298434Z",
     "shell.execute_reply.started": "2025-05-29T05:15:36.285882Z"
    },
    "trusted": true
   },
   "outputs": [],
   "source": [
    "import torch.nn.functional as F\n"
   ]
  },
  {
   "cell_type": "code",
   "execution_count": null,
   "metadata": {
    "execution": {
     "iopub.execute_input": "2025-05-29T05:15:36.300073Z",
     "iopub.status.busy": "2025-05-29T05:15:36.299796Z",
     "iopub.status.idle": "2025-05-29T05:22:33.929850Z",
     "shell.execute_reply": "2025-05-29T05:22:33.929194Z",
     "shell.execute_reply.started": "2025-05-29T05:15:36.300033Z"
    },
    "trusted": true
   },
   "outputs": [
    {
     "data": {
      "application/vnd.jupyter.widget-view+json": {
       "model_id": "8c0bdd148ae3414d84b41a1429aaf870",
       "version_major": 2,
       "version_minor": 0
      },
      "text/plain": [
       "Epochs:   0%|          | 0/200 [00:00<?, ?it/s]"
      ]
     },
     "metadata": {},
     "output_type": "display_data"
    },
    {
     "data": {
      "application/vnd.jupyter.widget-view+json": {
       "model_id": "",
       "version_major": 2,
       "version_minor": 0
      },
      "text/plain": [
       "e1:   0%|          | 0/63 [00:00<?, ?it/s]"
      ]
     },
     "metadata": {},
     "output_type": "display_data"
    },
    {
     "data": {
      "application/vnd.jupyter.widget-view+json": {
       "model_id": "",
       "version_major": 2,
       "version_minor": 0
      },
      "text/plain": [
       "e2:   0%|          | 0/63 [00:00<?, ?it/s]"
      ]
     },
     "metadata": {},
     "output_type": "display_data"
    },
    {
     "data": {
      "application/vnd.jupyter.widget-view+json": {
       "model_id": "",
       "version_major": 2,
       "version_minor": 0
      },
      "text/plain": [
       "e3:   0%|          | 0/63 [00:00<?, ?it/s]"
      ]
     },
     "metadata": {},
     "output_type": "display_data"
    },
    {
     "data": {
      "application/vnd.jupyter.widget-view+json": {
       "model_id": "",
       "version_major": 2,
       "version_minor": 0
      },
      "text/plain": [
       "e4:   0%|          | 0/63 [00:00<?, ?it/s]"
      ]
     },
     "metadata": {},
     "output_type": "display_data"
    },
    {
     "data": {
      "application/vnd.jupyter.widget-view+json": {
       "model_id": "",
       "version_major": 2,
       "version_minor": 0
      },
      "text/plain": [
       "e5:   0%|          | 0/63 [00:00<?, ?it/s]"
      ]
     },
     "metadata": {},
     "output_type": "display_data"
    },
    {
     "data": {
      "application/vnd.jupyter.widget-view+json": {
       "model_id": "",
       "version_major": 2,
       "version_minor": 0
      },
      "text/plain": [
       "e6:   0%|          | 0/63 [00:00<?, ?it/s]"
      ]
     },
     "metadata": {},
     "output_type": "display_data"
    },
    {
     "data": {
      "application/vnd.jupyter.widget-view+json": {
       "model_id": "",
       "version_major": 2,
       "version_minor": 0
      },
      "text/plain": [
       "e7:   0%|          | 0/63 [00:00<?, ?it/s]"
      ]
     },
     "metadata": {},
     "output_type": "display_data"
    },
    {
     "data": {
      "application/vnd.jupyter.widget-view+json": {
       "model_id": "",
       "version_major": 2,
       "version_minor": 0
      },
      "text/plain": [
       "e8:   0%|          | 0/63 [00:00<?, ?it/s]"
      ]
     },
     "metadata": {},
     "output_type": "display_data"
    },
    {
     "data": {
      "application/vnd.jupyter.widget-view+json": {
       "model_id": "",
       "version_major": 2,
       "version_minor": 0
      },
      "text/plain": [
       "e9:   0%|          | 0/63 [00:00<?, ?it/s]"
      ]
     },
     "metadata": {},
     "output_type": "display_data"
    },
    {
     "data": {
      "application/vnd.jupyter.widget-view+json": {
       "model_id": "",
       "version_major": 2,
       "version_minor": 0
      },
      "text/plain": [
       "e10:   0%|          | 0/63 [00:00<?, ?it/s]"
      ]
     },
     "metadata": {},
     "output_type": "display_data"
    },
    {
     "data": {
      "application/vnd.jupyter.widget-view+json": {
       "model_id": "",
       "version_major": 2,
       "version_minor": 0
      },
      "text/plain": [
       "e11:   0%|          | 0/63 [00:00<?, ?it/s]"
      ]
     },
     "metadata": {},
     "output_type": "display_data"
    },
    {
     "data": {
      "application/vnd.jupyter.widget-view+json": {
       "model_id": "",
       "version_major": 2,
       "version_minor": 0
      },
      "text/plain": [
       "e12:   0%|          | 0/63 [00:00<?, ?it/s]"
      ]
     },
     "metadata": {},
     "output_type": "display_data"
    },
    {
     "data": {
      "application/vnd.jupyter.widget-view+json": {
       "model_id": "",
       "version_major": 2,
       "version_minor": 0
      },
      "text/plain": [
       "e13:   0%|          | 0/63 [00:00<?, ?it/s]"
      ]
     },
     "metadata": {},
     "output_type": "display_data"
    },
    {
     "data": {
      "application/vnd.jupyter.widget-view+json": {
       "model_id": "",
       "version_major": 2,
       "version_minor": 0
      },
      "text/plain": [
       "e14:   0%|          | 0/63 [00:00<?, ?it/s]"
      ]
     },
     "metadata": {},
     "output_type": "display_data"
    },
    {
     "data": {
      "application/vnd.jupyter.widget-view+json": {
       "model_id": "",
       "version_major": 2,
       "version_minor": 0
      },
      "text/plain": [
       "e15:   0%|          | 0/63 [00:00<?, ?it/s]"
      ]
     },
     "metadata": {},
     "output_type": "display_data"
    },
    {
     "data": {
      "application/vnd.jupyter.widget-view+json": {
       "model_id": "",
       "version_major": 2,
       "version_minor": 0
      },
      "text/plain": [
       "e16:   0%|          | 0/63 [00:00<?, ?it/s]"
      ]
     },
     "metadata": {},
     "output_type": "display_data"
    },
    {
     "data": {
      "application/vnd.jupyter.widget-view+json": {
       "model_id": "",
       "version_major": 2,
       "version_minor": 0
      },
      "text/plain": [
       "e17:   0%|          | 0/63 [00:00<?, ?it/s]"
      ]
     },
     "metadata": {},
     "output_type": "display_data"
    },
    {
     "data": {
      "application/vnd.jupyter.widget-view+json": {
       "model_id": "",
       "version_major": 2,
       "version_minor": 0
      },
      "text/plain": [
       "e18:   0%|          | 0/63 [00:00<?, ?it/s]"
      ]
     },
     "metadata": {},
     "output_type": "display_data"
    },
    {
     "data": {
      "application/vnd.jupyter.widget-view+json": {
       "model_id": "",
       "version_major": 2,
       "version_minor": 0
      },
      "text/plain": [
       "e19:   0%|          | 0/63 [00:00<?, ?it/s]"
      ]
     },
     "metadata": {},
     "output_type": "display_data"
    },
    {
     "data": {
      "application/vnd.jupyter.widget-view+json": {
       "model_id": "",
       "version_major": 2,
       "version_minor": 0
      },
      "text/plain": [
       "e20:   0%|          | 0/63 [00:00<?, ?it/s]"
      ]
     },
     "metadata": {},
     "output_type": "display_data"
    },
    {
     "data": {
      "application/vnd.jupyter.widget-view+json": {
       "model_id": "",
       "version_major": 2,
       "version_minor": 0
      },
      "text/plain": [
       "e21:   0%|          | 0/63 [00:00<?, ?it/s]"
      ]
     },
     "metadata": {},
     "output_type": "display_data"
    },
    {
     "data": {
      "application/vnd.jupyter.widget-view+json": {
       "model_id": "",
       "version_major": 2,
       "version_minor": 0
      },
      "text/plain": [
       "e22:   0%|          | 0/63 [00:00<?, ?it/s]"
      ]
     },
     "metadata": {},
     "output_type": "display_data"
    },
    {
     "data": {
      "application/vnd.jupyter.widget-view+json": {
       "model_id": "",
       "version_major": 2,
       "version_minor": 0
      },
      "text/plain": [
       "e23:   0%|          | 0/63 [00:00<?, ?it/s]"
      ]
     },
     "metadata": {},
     "output_type": "display_data"
    },
    {
     "data": {
      "application/vnd.jupyter.widget-view+json": {
       "model_id": "",
       "version_major": 2,
       "version_minor": 0
      },
      "text/plain": [
       "e24:   0%|          | 0/63 [00:00<?, ?it/s]"
      ]
     },
     "metadata": {},
     "output_type": "display_data"
    },
    {
     "data": {
      "application/vnd.jupyter.widget-view+json": {
       "model_id": "",
       "version_major": 2,
       "version_minor": 0
      },
      "text/plain": [
       "e25:   0%|          | 0/63 [00:00<?, ?it/s]"
      ]
     },
     "metadata": {},
     "output_type": "display_data"
    },
    {
     "data": {
      "application/vnd.jupyter.widget-view+json": {
       "model_id": "",
       "version_major": 2,
       "version_minor": 0
      },
      "text/plain": [
       "e26:   0%|          | 0/63 [00:00<?, ?it/s]"
      ]
     },
     "metadata": {},
     "output_type": "display_data"
    },
    {
     "data": {
      "application/vnd.jupyter.widget-view+json": {
       "model_id": "",
       "version_major": 2,
       "version_minor": 0
      },
      "text/plain": [
       "e27:   0%|          | 0/63 [00:00<?, ?it/s]"
      ]
     },
     "metadata": {},
     "output_type": "display_data"
    },
    {
     "data": {
      "application/vnd.jupyter.widget-view+json": {
       "model_id": "",
       "version_major": 2,
       "version_minor": 0
      },
      "text/plain": [
       "e28:   0%|          | 0/63 [00:00<?, ?it/s]"
      ]
     },
     "metadata": {},
     "output_type": "display_data"
    },
    {
     "data": {
      "application/vnd.jupyter.widget-view+json": {
       "model_id": "",
       "version_major": 2,
       "version_minor": 0
      },
      "text/plain": [
       "e29:   0%|          | 0/63 [00:00<?, ?it/s]"
      ]
     },
     "metadata": {},
     "output_type": "display_data"
    },
    {
     "data": {
      "application/vnd.jupyter.widget-view+json": {
       "model_id": "",
       "version_major": 2,
       "version_minor": 0
      },
      "text/plain": [
       "e30:   0%|          | 0/63 [00:00<?, ?it/s]"
      ]
     },
     "metadata": {},
     "output_type": "display_data"
    },
    {
     "data": {
      "application/vnd.jupyter.widget-view+json": {
       "model_id": "",
       "version_major": 2,
       "version_minor": 0
      },
      "text/plain": [
       "e31:   0%|          | 0/63 [00:00<?, ?it/s]"
      ]
     },
     "metadata": {},
     "output_type": "display_data"
    },
    {
     "data": {
      "application/vnd.jupyter.widget-view+json": {
       "model_id": "",
       "version_major": 2,
       "version_minor": 0
      },
      "text/plain": [
       "e32:   0%|          | 0/63 [00:00<?, ?it/s]"
      ]
     },
     "metadata": {},
     "output_type": "display_data"
    },
    {
     "data": {
      "application/vnd.jupyter.widget-view+json": {
       "model_id": "",
       "version_major": 2,
       "version_minor": 0
      },
      "text/plain": [
       "e33:   0%|          | 0/63 [00:00<?, ?it/s]"
      ]
     },
     "metadata": {},
     "output_type": "display_data"
    },
    {
     "data": {
      "application/vnd.jupyter.widget-view+json": {
       "model_id": "",
       "version_major": 2,
       "version_minor": 0
      },
      "text/plain": [
       "e34:   0%|          | 0/63 [00:00<?, ?it/s]"
      ]
     },
     "metadata": {},
     "output_type": "display_data"
    },
    {
     "data": {
      "application/vnd.jupyter.widget-view+json": {
       "model_id": "",
       "version_major": 2,
       "version_minor": 0
      },
      "text/plain": [
       "e35:   0%|          | 0/63 [00:00<?, ?it/s]"
      ]
     },
     "metadata": {},
     "output_type": "display_data"
    },
    {
     "data": {
      "application/vnd.jupyter.widget-view+json": {
       "model_id": "",
       "version_major": 2,
       "version_minor": 0
      },
      "text/plain": [
       "e36:   0%|          | 0/63 [00:00<?, ?it/s]"
      ]
     },
     "metadata": {},
     "output_type": "display_data"
    },
    {
     "data": {
      "application/vnd.jupyter.widget-view+json": {
       "model_id": "",
       "version_major": 2,
       "version_minor": 0
      },
      "text/plain": [
       "e37:   0%|          | 0/63 [00:00<?, ?it/s]"
      ]
     },
     "metadata": {},
     "output_type": "display_data"
    },
    {
     "data": {
      "application/vnd.jupyter.widget-view+json": {
       "model_id": "",
       "version_major": 2,
       "version_minor": 0
      },
      "text/plain": [
       "e38:   0%|          | 0/63 [00:00<?, ?it/s]"
      ]
     },
     "metadata": {},
     "output_type": "display_data"
    },
    {
     "data": {
      "application/vnd.jupyter.widget-view+json": {
       "model_id": "",
       "version_major": 2,
       "version_minor": 0
      },
      "text/plain": [
       "e39:   0%|          | 0/63 [00:00<?, ?it/s]"
      ]
     },
     "metadata": {},
     "output_type": "display_data"
    },
    {
     "data": {
      "application/vnd.jupyter.widget-view+json": {
       "model_id": "",
       "version_major": 2,
       "version_minor": 0
      },
      "text/plain": [
       "e40:   0%|          | 0/63 [00:00<?, ?it/s]"
      ]
     },
     "metadata": {},
     "output_type": "display_data"
    },
    {
     "data": {
      "application/vnd.jupyter.widget-view+json": {
       "model_id": "",
       "version_major": 2,
       "version_minor": 0
      },
      "text/plain": [
       "e41:   0%|          | 0/63 [00:00<?, ?it/s]"
      ]
     },
     "metadata": {},
     "output_type": "display_data"
    },
    {
     "data": {
      "application/vnd.jupyter.widget-view+json": {
       "model_id": "",
       "version_major": 2,
       "version_minor": 0
      },
      "text/plain": [
       "e42:   0%|          | 0/63 [00:00<?, ?it/s]"
      ]
     },
     "metadata": {},
     "output_type": "display_data"
    },
    {
     "data": {
      "application/vnd.jupyter.widget-view+json": {
       "model_id": "",
       "version_major": 2,
       "version_minor": 0
      },
      "text/plain": [
       "e43:   0%|          | 0/63 [00:00<?, ?it/s]"
      ]
     },
     "metadata": {},
     "output_type": "display_data"
    },
    {
     "data": {
      "application/vnd.jupyter.widget-view+json": {
       "model_id": "",
       "version_major": 2,
       "version_minor": 0
      },
      "text/plain": [
       "e44:   0%|          | 0/63 [00:00<?, ?it/s]"
      ]
     },
     "metadata": {},
     "output_type": "display_data"
    },
    {
     "data": {
      "application/vnd.jupyter.widget-view+json": {
       "model_id": "",
       "version_major": 2,
       "version_minor": 0
      },
      "text/plain": [
       "e45:   0%|          | 0/63 [00:00<?, ?it/s]"
      ]
     },
     "metadata": {},
     "output_type": "display_data"
    },
    {
     "data": {
      "application/vnd.jupyter.widget-view+json": {
       "model_id": "",
       "version_major": 2,
       "version_minor": 0
      },
      "text/plain": [
       "e46:   0%|          | 0/63 [00:00<?, ?it/s]"
      ]
     },
     "metadata": {},
     "output_type": "display_data"
    },
    {
     "data": {
      "application/vnd.jupyter.widget-view+json": {
       "model_id": "",
       "version_major": 2,
       "version_minor": 0
      },
      "text/plain": [
       "e47:   0%|          | 0/63 [00:00<?, ?it/s]"
      ]
     },
     "metadata": {},
     "output_type": "display_data"
    },
    {
     "data": {
      "application/vnd.jupyter.widget-view+json": {
       "model_id": "",
       "version_major": 2,
       "version_minor": 0
      },
      "text/plain": [
       "e48:   0%|          | 0/63 [00:00<?, ?it/s]"
      ]
     },
     "metadata": {},
     "output_type": "display_data"
    },
    {
     "data": {
      "application/vnd.jupyter.widget-view+json": {
       "model_id": "",
       "version_major": 2,
       "version_minor": 0
      },
      "text/plain": [
       "e49:   0%|          | 0/63 [00:00<?, ?it/s]"
      ]
     },
     "metadata": {},
     "output_type": "display_data"
    },
    {
     "data": {
      "application/vnd.jupyter.widget-view+json": {
       "model_id": "24bffb487a554468bfad3feba11b488d",
       "version_major": 2,
       "version_minor": 0
      },
      "text/plain": [
       "e50:   0%|          | 0/63 [00:00<?, ?it/s]"
      ]
     },
     "metadata": {},
     "output_type": "display_data"
    },
    {
     "data": {
      "application/vnd.jupyter.widget-view+json": {
       "model_id": "5634298c233f40528c4e6d4457cac3bf",
       "version_major": 2,
       "version_minor": 0
      },
      "text/plain": [
       "e51:   0%|          | 0/63 [00:00<?, ?it/s]"
      ]
     },
     "metadata": {},
     "output_type": "display_data"
    },
    {
     "data": {
      "application/vnd.jupyter.widget-view+json": {
       "model_id": "45b055c379e1442c89c8a8ef83e0aa9f",
       "version_major": 2,
       "version_minor": 0
      },
      "text/plain": [
       "e52:   0%|          | 0/63 [00:00<?, ?it/s]"
      ]
     },
     "metadata": {},
     "output_type": "display_data"
    },
    {
     "data": {
      "application/vnd.jupyter.widget-view+json": {
       "model_id": "9a4b518b32b84cb4b109022c5a593fea",
       "version_major": 2,
       "version_minor": 0
      },
      "text/plain": [
       "e53:   0%|          | 0/63 [00:00<?, ?it/s]"
      ]
     },
     "metadata": {},
     "output_type": "display_data"
    },
    {
     "data": {
      "application/vnd.jupyter.widget-view+json": {
       "model_id": "3589d407aca0457a9a258d41771b8737",
       "version_major": 2,
       "version_minor": 0
      },
      "text/plain": [
       "e54:   0%|          | 0/63 [00:00<?, ?it/s]"
      ]
     },
     "metadata": {},
     "output_type": "display_data"
    },
    {
     "data": {
      "application/vnd.jupyter.widget-view+json": {
       "model_id": "42231edc0e8e4a288483717a86a79025",
       "version_major": 2,
       "version_minor": 0
      },
      "text/plain": [
       "e55:   0%|          | 0/63 [00:00<?, ?it/s]"
      ]
     },
     "metadata": {},
     "output_type": "display_data"
    },
    {
     "data": {
      "application/vnd.jupyter.widget-view+json": {
       "model_id": "607b1d7269a04595883eb792fa01f121",
       "version_major": 2,
       "version_minor": 0
      },
      "text/plain": [
       "e56:   0%|          | 0/63 [00:00<?, ?it/s]"
      ]
     },
     "metadata": {},
     "output_type": "display_data"
    },
    {
     "data": {
      "application/vnd.jupyter.widget-view+json": {
       "model_id": "4ca56ef284e84d61b21c88e73af85b31",
       "version_major": 2,
       "version_minor": 0
      },
      "text/plain": [
       "e57:   0%|          | 0/63 [00:00<?, ?it/s]"
      ]
     },
     "metadata": {},
     "output_type": "display_data"
    },
    {
     "data": {
      "application/vnd.jupyter.widget-view+json": {
       "model_id": "2d52eee78d89422f9f5b156863d12a5d",
       "version_major": 2,
       "version_minor": 0
      },
      "text/plain": [
       "e58:   0%|          | 0/63 [00:00<?, ?it/s]"
      ]
     },
     "metadata": {},
     "output_type": "display_data"
    },
    {
     "data": {
      "application/vnd.jupyter.widget-view+json": {
       "model_id": "0973f16d10644bda99fadb7c9d462dce",
       "version_major": 2,
       "version_minor": 0
      },
      "text/plain": [
       "e59:   0%|          | 0/63 [00:00<?, ?it/s]"
      ]
     },
     "metadata": {},
     "output_type": "display_data"
    },
    {
     "data": {
      "application/vnd.jupyter.widget-view+json": {
       "model_id": "095e81d4cd064de2a45f46bc4a7fd556",
       "version_major": 2,
       "version_minor": 0
      },
      "text/plain": [
       "e60:   0%|          | 0/63 [00:00<?, ?it/s]"
      ]
     },
     "metadata": {},
     "output_type": "display_data"
    },
    {
     "data": {
      "application/vnd.jupyter.widget-view+json": {
       "model_id": "6d07488c8e6a426a937ac2ebbb2614a2",
       "version_major": 2,
       "version_minor": 0
      },
      "text/plain": [
       "e61:   0%|          | 0/63 [00:00<?, ?it/s]"
      ]
     },
     "metadata": {},
     "output_type": "display_data"
    },
    {
     "data": {
      "application/vnd.jupyter.widget-view+json": {
       "model_id": "d2dea8f7276a438bb58024b3222bafb1",
       "version_major": 2,
       "version_minor": 0
      },
      "text/plain": [
       "e62:   0%|          | 0/63 [00:00<?, ?it/s]"
      ]
     },
     "metadata": {},
     "output_type": "display_data"
    },
    {
     "data": {
      "application/vnd.jupyter.widget-view+json": {
       "model_id": "cdab61c006ff47988bb2399358d3b8e9",
       "version_major": 2,
       "version_minor": 0
      },
      "text/plain": [
       "e63:   0%|          | 0/63 [00:00<?, ?it/s]"
      ]
     },
     "metadata": {},
     "output_type": "display_data"
    },
    {
     "data": {
      "application/vnd.jupyter.widget-view+json": {
       "model_id": "cc634d00f00b463fbfaa74ec83d8980c",
       "version_major": 2,
       "version_minor": 0
      },
      "text/plain": [
       "e64:   0%|          | 0/63 [00:00<?, ?it/s]"
      ]
     },
     "metadata": {},
     "output_type": "display_data"
    },
    {
     "data": {
      "application/vnd.jupyter.widget-view+json": {
       "model_id": "785224c1da3a4d608448c1a4eb4bd5db",
       "version_major": 2,
       "version_minor": 0
      },
      "text/plain": [
       "e65:   0%|          | 0/63 [00:00<?, ?it/s]"
      ]
     },
     "metadata": {},
     "output_type": "display_data"
    },
    {
     "data": {
      "application/vnd.jupyter.widget-view+json": {
       "model_id": "615af2dd8dee476ca9bcd0f210a10d6e",
       "version_major": 2,
       "version_minor": 0
      },
      "text/plain": [
       "e66:   0%|          | 0/63 [00:00<?, ?it/s]"
      ]
     },
     "metadata": {},
     "output_type": "display_data"
    },
    {
     "data": {
      "application/vnd.jupyter.widget-view+json": {
       "model_id": "78894dce953c47dc8d2dd69961b88ca2",
       "version_major": 2,
       "version_minor": 0
      },
      "text/plain": [
       "e67:   0%|          | 0/63 [00:00<?, ?it/s]"
      ]
     },
     "metadata": {},
     "output_type": "display_data"
    },
    {
     "data": {
      "application/vnd.jupyter.widget-view+json": {
       "model_id": "b932cd4b26b040fc9d6272f19b6f0d24",
       "version_major": 2,
       "version_minor": 0
      },
      "text/plain": [
       "e68:   0%|          | 0/63 [00:00<?, ?it/s]"
      ]
     },
     "metadata": {},
     "output_type": "display_data"
    },
    {
     "data": {
      "application/vnd.jupyter.widget-view+json": {
       "model_id": "8fca51072a584a6fb0249e911248f671",
       "version_major": 2,
       "version_minor": 0
      },
      "text/plain": [
       "e69:   0%|          | 0/63 [00:00<?, ?it/s]"
      ]
     },
     "metadata": {},
     "output_type": "display_data"
    },
    {
     "data": {
      "application/vnd.jupyter.widget-view+json": {
       "model_id": "7ac1f7f2a6de4bab8ea31537792a2f06",
       "version_major": 2,
       "version_minor": 0
      },
      "text/plain": [
       "e70:   0%|          | 0/63 [00:00<?, ?it/s]"
      ]
     },
     "metadata": {},
     "output_type": "display_data"
    },
    {
     "data": {
      "application/vnd.jupyter.widget-view+json": {
       "model_id": "6169967d970c4a379dc8c305db7a10d0",
       "version_major": 2,
       "version_minor": 0
      },
      "text/plain": [
       "e71:   0%|          | 0/63 [00:00<?, ?it/s]"
      ]
     },
     "metadata": {},
     "output_type": "display_data"
    },
    {
     "data": {
      "application/vnd.jupyter.widget-view+json": {
       "model_id": "c1d9f1e833b34532b452dc794a9cedc1",
       "version_major": 2,
       "version_minor": 0
      },
      "text/plain": [
       "e72:   0%|          | 0/63 [00:00<?, ?it/s]"
      ]
     },
     "metadata": {},
     "output_type": "display_data"
    },
    {
     "data": {
      "application/vnd.jupyter.widget-view+json": {
       "model_id": "dcbac1c0a57a4edd8ab211a4523d09fe",
       "version_major": 2,
       "version_minor": 0
      },
      "text/plain": [
       "e73:   0%|          | 0/63 [00:00<?, ?it/s]"
      ]
     },
     "metadata": {},
     "output_type": "display_data"
    },
    {
     "data": {
      "application/vnd.jupyter.widget-view+json": {
       "model_id": "23ca069c2ae549d99241cdc88ea80e29",
       "version_major": 2,
       "version_minor": 0
      },
      "text/plain": [
       "e74:   0%|          | 0/63 [00:00<?, ?it/s]"
      ]
     },
     "metadata": {},
     "output_type": "display_data"
    },
    {
     "data": {
      "application/vnd.jupyter.widget-view+json": {
       "model_id": "ad746469086f4196ae0679da03808481",
       "version_major": 2,
       "version_minor": 0
      },
      "text/plain": [
       "e75:   0%|          | 0/63 [00:00<?, ?it/s]"
      ]
     },
     "metadata": {},
     "output_type": "display_data"
    },
    {
     "data": {
      "application/vnd.jupyter.widget-view+json": {
       "model_id": "92243c95645947e5ae98b1e363d60782",
       "version_major": 2,
       "version_minor": 0
      },
      "text/plain": [
       "e76:   0%|          | 0/63 [00:00<?, ?it/s]"
      ]
     },
     "metadata": {},
     "output_type": "display_data"
    },
    {
     "data": {
      "application/vnd.jupyter.widget-view+json": {
       "model_id": "f93c2de16cbe47269637f264273c1759",
       "version_major": 2,
       "version_minor": 0
      },
      "text/plain": [
       "e77:   0%|          | 0/63 [00:00<?, ?it/s]"
      ]
     },
     "metadata": {},
     "output_type": "display_data"
    },
    {
     "data": {
      "application/vnd.jupyter.widget-view+json": {
       "model_id": "c54051a863a144a784d7a4da0c00def0",
       "version_major": 2,
       "version_minor": 0
      },
      "text/plain": [
       "e78:   0%|          | 0/63 [00:00<?, ?it/s]"
      ]
     },
     "metadata": {},
     "output_type": "display_data"
    },
    {
     "data": {
      "application/vnd.jupyter.widget-view+json": {
       "model_id": "210e9e1e422940f9a92c5b6361495353",
       "version_major": 2,
       "version_minor": 0
      },
      "text/plain": [
       "e79:   0%|          | 0/63 [00:00<?, ?it/s]"
      ]
     },
     "metadata": {},
     "output_type": "display_data"
    },
    {
     "data": {
      "application/vnd.jupyter.widget-view+json": {
       "model_id": "e23f69db636c437cafb5d467181df060",
       "version_major": 2,
       "version_minor": 0
      },
      "text/plain": [
       "e80:   0%|          | 0/63 [00:00<?, ?it/s]"
      ]
     },
     "metadata": {},
     "output_type": "display_data"
    },
    {
     "data": {
      "application/vnd.jupyter.widget-view+json": {
       "model_id": "e050e0a671c3434d82fc52069e89da61",
       "version_major": 2,
       "version_minor": 0
      },
      "text/plain": [
       "e81:   0%|          | 0/63 [00:00<?, ?it/s]"
      ]
     },
     "metadata": {},
     "output_type": "display_data"
    },
    {
     "data": {
      "application/vnd.jupyter.widget-view+json": {
       "model_id": "2b5158478441475bb0b083b71c63a998",
       "version_major": 2,
       "version_minor": 0
      },
      "text/plain": [
       "e82:   0%|          | 0/63 [00:00<?, ?it/s]"
      ]
     },
     "metadata": {},
     "output_type": "display_data"
    },
    {
     "data": {
      "application/vnd.jupyter.widget-view+json": {
       "model_id": "c8b696fa1f044b4aa07311bd6e34fddd",
       "version_major": 2,
       "version_minor": 0
      },
      "text/plain": [
       "e83:   0%|          | 0/63 [00:00<?, ?it/s]"
      ]
     },
     "metadata": {},
     "output_type": "display_data"
    },
    {
     "data": {
      "application/vnd.jupyter.widget-view+json": {
       "model_id": "73df4b13af8f459886129ca66e9f4c99",
       "version_major": 2,
       "version_minor": 0
      },
      "text/plain": [
       "e84:   0%|          | 0/63 [00:00<?, ?it/s]"
      ]
     },
     "metadata": {},
     "output_type": "display_data"
    },
    {
     "data": {
      "application/vnd.jupyter.widget-view+json": {
       "model_id": "f0524a3c046544298f323db4a32c89ad",
       "version_major": 2,
       "version_minor": 0
      },
      "text/plain": [
       "e85:   0%|          | 0/63 [00:00<?, ?it/s]"
      ]
     },
     "metadata": {},
     "output_type": "display_data"
    },
    {
     "data": {
      "application/vnd.jupyter.widget-view+json": {
       "model_id": "8021193ecaa1446c96697217e2a75ccb",
       "version_major": 2,
       "version_minor": 0
      },
      "text/plain": [
       "e86:   0%|          | 0/63 [00:00<?, ?it/s]"
      ]
     },
     "metadata": {},
     "output_type": "display_data"
    },
    {
     "data": {
      "application/vnd.jupyter.widget-view+json": {
       "model_id": "ab9e90ed27b3485c86c956843ac99009",
       "version_major": 2,
       "version_minor": 0
      },
      "text/plain": [
       "e87:   0%|          | 0/63 [00:00<?, ?it/s]"
      ]
     },
     "metadata": {},
     "output_type": "display_data"
    },
    {
     "data": {
      "application/vnd.jupyter.widget-view+json": {
       "model_id": "e156eea87b584afe884d6fd210d4c9b2",
       "version_major": 2,
       "version_minor": 0
      },
      "text/plain": [
       "e88:   0%|          | 0/63 [00:00<?, ?it/s]"
      ]
     },
     "metadata": {},
     "output_type": "display_data"
    },
    {
     "data": {
      "application/vnd.jupyter.widget-view+json": {
       "model_id": "106198a879814657ab5067090e46764e",
       "version_major": 2,
       "version_minor": 0
      },
      "text/plain": [
       "e89:   0%|          | 0/63 [00:00<?, ?it/s]"
      ]
     },
     "metadata": {},
     "output_type": "display_data"
    },
    {
     "data": {
      "application/vnd.jupyter.widget-view+json": {
       "model_id": "5c83401218bd4b51aa0473acd3334b0a",
       "version_major": 2,
       "version_minor": 0
      },
      "text/plain": [
       "e90:   0%|          | 0/63 [00:00<?, ?it/s]"
      ]
     },
     "metadata": {},
     "output_type": "display_data"
    },
    {
     "data": {
      "application/vnd.jupyter.widget-view+json": {
       "model_id": "005e1f0367634961922ddd05c6e002d1",
       "version_major": 2,
       "version_minor": 0
      },
      "text/plain": [
       "e91:   0%|          | 0/63 [00:00<?, ?it/s]"
      ]
     },
     "metadata": {},
     "output_type": "display_data"
    },
    {
     "data": {
      "application/vnd.jupyter.widget-view+json": {
       "model_id": "5278769e612e4bbeadbc2eb58efe6019",
       "version_major": 2,
       "version_minor": 0
      },
      "text/plain": [
       "e92:   0%|          | 0/63 [00:00<?, ?it/s]"
      ]
     },
     "metadata": {},
     "output_type": "display_data"
    },
    {
     "data": {
      "application/vnd.jupyter.widget-view+json": {
       "model_id": "12e382a2076f493e80e8f1101067aecc",
       "version_major": 2,
       "version_minor": 0
      },
      "text/plain": [
       "e93:   0%|          | 0/63 [00:00<?, ?it/s]"
      ]
     },
     "metadata": {},
     "output_type": "display_data"
    },
    {
     "data": {
      "application/vnd.jupyter.widget-view+json": {
       "model_id": "42be519071a2467dabefa7c91a752f31",
       "version_major": 2,
       "version_minor": 0
      },
      "text/plain": [
       "e94:   0%|          | 0/63 [00:00<?, ?it/s]"
      ]
     },
     "metadata": {},
     "output_type": "display_data"
    },
    {
     "data": {
      "application/vnd.jupyter.widget-view+json": {
       "model_id": "1130cb721a1b4eacab653c524be4aaf4",
       "version_major": 2,
       "version_minor": 0
      },
      "text/plain": [
       "e95:   0%|          | 0/63 [00:00<?, ?it/s]"
      ]
     },
     "metadata": {},
     "output_type": "display_data"
    },
    {
     "data": {
      "application/vnd.jupyter.widget-view+json": {
       "model_id": "003237803fd44a1f9368111c520aeee7",
       "version_major": 2,
       "version_minor": 0
      },
      "text/plain": [
       "e96:   0%|          | 0/63 [00:00<?, ?it/s]"
      ]
     },
     "metadata": {},
     "output_type": "display_data"
    },
    {
     "data": {
      "application/vnd.jupyter.widget-view+json": {
       "model_id": "12d3d114243949f6873e34967e2dd718",
       "version_major": 2,
       "version_minor": 0
      },
      "text/plain": [
       "e97:   0%|          | 0/63 [00:00<?, ?it/s]"
      ]
     },
     "metadata": {},
     "output_type": "display_data"
    },
    {
     "data": {
      "application/vnd.jupyter.widget-view+json": {
       "model_id": "dbe0bb8f72d74cdd91a724b5ad3d8fed",
       "version_major": 2,
       "version_minor": 0
      },
      "text/plain": [
       "e98:   0%|          | 0/63 [00:00<?, ?it/s]"
      ]
     },
     "metadata": {},
     "output_type": "display_data"
    },
    {
     "data": {
      "application/vnd.jupyter.widget-view+json": {
       "model_id": "c25f83cac5b54913a405a141102c78a3",
       "version_major": 2,
       "version_minor": 0
      },
      "text/plain": [
       "e99:   0%|          | 0/63 [00:00<?, ?it/s]"
      ]
     },
     "metadata": {},
     "output_type": "display_data"
    },
    {
     "data": {
      "application/vnd.jupyter.widget-view+json": {
       "model_id": "166d64097ff1498f8c38b33e6b59ca3a",
       "version_major": 2,
       "version_minor": 0
      },
      "text/plain": [
       "e100:   0%|          | 0/63 [00:00<?, ?it/s]"
      ]
     },
     "metadata": {},
     "output_type": "display_data"
    },
    {
     "data": {
      "application/vnd.jupyter.widget-view+json": {
       "model_id": "78eb3405b7a44d52b6d1d56597ccd9c6",
       "version_major": 2,
       "version_minor": 0
      },
      "text/plain": [
       "e101:   0%|          | 0/63 [00:00<?, ?it/s]"
      ]
     },
     "metadata": {},
     "output_type": "display_data"
    },
    {
     "data": {
      "application/vnd.jupyter.widget-view+json": {
       "model_id": "f1c8359905a54f13abd5fb8ee8a60ec7",
       "version_major": 2,
       "version_minor": 0
      },
      "text/plain": [
       "e102:   0%|          | 0/63 [00:00<?, ?it/s]"
      ]
     },
     "metadata": {},
     "output_type": "display_data"
    },
    {
     "data": {
      "application/vnd.jupyter.widget-view+json": {
       "model_id": "c667d53db5c24868a205891332c2c1a5",
       "version_major": 2,
       "version_minor": 0
      },
      "text/plain": [
       "e103:   0%|          | 0/63 [00:00<?, ?it/s]"
      ]
     },
     "metadata": {},
     "output_type": "display_data"
    },
    {
     "data": {
      "application/vnd.jupyter.widget-view+json": {
       "model_id": "de20fb48be48417e8c31177a122e9371",
       "version_major": 2,
       "version_minor": 0
      },
      "text/plain": [
       "e104:   0%|          | 0/63 [00:00<?, ?it/s]"
      ]
     },
     "metadata": {},
     "output_type": "display_data"
    },
    {
     "data": {
      "application/vnd.jupyter.widget-view+json": {
       "model_id": "3f9b11dce1fb42b4b3d49d37e7c36c92",
       "version_major": 2,
       "version_minor": 0
      },
      "text/plain": [
       "e105:   0%|          | 0/63 [00:00<?, ?it/s]"
      ]
     },
     "metadata": {},
     "output_type": "display_data"
    },
    {
     "data": {
      "application/vnd.jupyter.widget-view+json": {
       "model_id": "9a6790c3a764420cafbe3dc18ec4eb1c",
       "version_major": 2,
       "version_minor": 0
      },
      "text/plain": [
       "e106:   0%|          | 0/63 [00:00<?, ?it/s]"
      ]
     },
     "metadata": {},
     "output_type": "display_data"
    },
    {
     "data": {
      "application/vnd.jupyter.widget-view+json": {
       "model_id": "af8fd06b047d4be1b8e1cb90413acba6",
       "version_major": 2,
       "version_minor": 0
      },
      "text/plain": [
       "e107:   0%|          | 0/63 [00:00<?, ?it/s]"
      ]
     },
     "metadata": {},
     "output_type": "display_data"
    },
    {
     "data": {
      "application/vnd.jupyter.widget-view+json": {
       "model_id": "a64474ee2f974638a110ac2aebed1ab2",
       "version_major": 2,
       "version_minor": 0
      },
      "text/plain": [
       "e108:   0%|          | 0/63 [00:00<?, ?it/s]"
      ]
     },
     "metadata": {},
     "output_type": "display_data"
    },
    {
     "data": {
      "application/vnd.jupyter.widget-view+json": {
       "model_id": "2f65251d5a5640b3b5b0c59dacdc1c50",
       "version_major": 2,
       "version_minor": 0
      },
      "text/plain": [
       "e109:   0%|          | 0/63 [00:00<?, ?it/s]"
      ]
     },
     "metadata": {},
     "output_type": "display_data"
    },
    {
     "data": {
      "application/vnd.jupyter.widget-view+json": {
       "model_id": "c571cf38fd1f40e680afeb601aa4e7cd",
       "version_major": 2,
       "version_minor": 0
      },
      "text/plain": [
       "e110:   0%|          | 0/63 [00:00<?, ?it/s]"
      ]
     },
     "metadata": {},
     "output_type": "display_data"
    },
    {
     "data": {
      "application/vnd.jupyter.widget-view+json": {
       "model_id": "4db555aceac845f0a0c60f8dfd93a9dd",
       "version_major": 2,
       "version_minor": 0
      },
      "text/plain": [
       "e111:   0%|          | 0/63 [00:00<?, ?it/s]"
      ]
     },
     "metadata": {},
     "output_type": "display_data"
    },
    {
     "data": {
      "application/vnd.jupyter.widget-view+json": {
       "model_id": "025217107ba74ef2985981b6e2ec7a77",
       "version_major": 2,
       "version_minor": 0
      },
      "text/plain": [
       "e112:   0%|          | 0/63 [00:00<?, ?it/s]"
      ]
     },
     "metadata": {},
     "output_type": "display_data"
    },
    {
     "data": {
      "application/vnd.jupyter.widget-view+json": {
       "model_id": "1af25f85f5a042aa8a6fdf323747bfe1",
       "version_major": 2,
       "version_minor": 0
      },
      "text/plain": [
       "e113:   0%|          | 0/63 [00:00<?, ?it/s]"
      ]
     },
     "metadata": {},
     "output_type": "display_data"
    },
    {
     "data": {
      "application/vnd.jupyter.widget-view+json": {
       "model_id": "23674de61ecb42348771da0803c3ce27",
       "version_major": 2,
       "version_minor": 0
      },
      "text/plain": [
       "e114:   0%|          | 0/63 [00:00<?, ?it/s]"
      ]
     },
     "metadata": {},
     "output_type": "display_data"
    },
    {
     "data": {
      "application/vnd.jupyter.widget-view+json": {
       "model_id": "9a53c36573b0498493ab093380400e48",
       "version_major": 2,
       "version_minor": 0
      },
      "text/plain": [
       "e115:   0%|          | 0/63 [00:00<?, ?it/s]"
      ]
     },
     "metadata": {},
     "output_type": "display_data"
    },
    {
     "data": {
      "application/vnd.jupyter.widget-view+json": {
       "model_id": "a76f59c785bd4bb9a853f54bf2fcca9c",
       "version_major": 2,
       "version_minor": 0
      },
      "text/plain": [
       "e116:   0%|          | 0/63 [00:00<?, ?it/s]"
      ]
     },
     "metadata": {},
     "output_type": "display_data"
    },
    {
     "data": {
      "application/vnd.jupyter.widget-view+json": {
       "model_id": "1d61bcb96457490e83cd3d7e2eec47a2",
       "version_major": 2,
       "version_minor": 0
      },
      "text/plain": [
       "e117:   0%|          | 0/63 [00:00<?, ?it/s]"
      ]
     },
     "metadata": {},
     "output_type": "display_data"
    },
    {
     "data": {
      "application/vnd.jupyter.widget-view+json": {
       "model_id": "b8d0d34c1aac4e7ba77ac03d52a3d26c",
       "version_major": 2,
       "version_minor": 0
      },
      "text/plain": [
       "e118:   0%|          | 0/63 [00:00<?, ?it/s]"
      ]
     },
     "metadata": {},
     "output_type": "display_data"
    },
    {
     "data": {
      "application/vnd.jupyter.widget-view+json": {
       "model_id": "d8f23f2ec8864adcb6aa0d79951f3c20",
       "version_major": 2,
       "version_minor": 0
      },
      "text/plain": [
       "e119:   0%|          | 0/63 [00:00<?, ?it/s]"
      ]
     },
     "metadata": {},
     "output_type": "display_data"
    },
    {
     "data": {
      "application/vnd.jupyter.widget-view+json": {
       "model_id": "26a70b9bd7944c44b4acf1d5885a8102",
       "version_major": 2,
       "version_minor": 0
      },
      "text/plain": [
       "e120:   0%|          | 0/63 [00:00<?, ?it/s]"
      ]
     },
     "metadata": {},
     "output_type": "display_data"
    },
    {
     "data": {
      "application/vnd.jupyter.widget-view+json": {
       "model_id": "0e93172ba6cb481dbab66534183dec30",
       "version_major": 2,
       "version_minor": 0
      },
      "text/plain": [
       "e121:   0%|          | 0/63 [00:00<?, ?it/s]"
      ]
     },
     "metadata": {},
     "output_type": "display_data"
    },
    {
     "data": {
      "application/vnd.jupyter.widget-view+json": {
       "model_id": "362bd48059a04f55913fef05a5d30781",
       "version_major": 2,
       "version_minor": 0
      },
      "text/plain": [
       "e122:   0%|          | 0/63 [00:00<?, ?it/s]"
      ]
     },
     "metadata": {},
     "output_type": "display_data"
    },
    {
     "data": {
      "application/vnd.jupyter.widget-view+json": {
       "model_id": "012518a470a14717811f5df8dc2f4c76",
       "version_major": 2,
       "version_minor": 0
      },
      "text/plain": [
       "e123:   0%|          | 0/63 [00:00<?, ?it/s]"
      ]
     },
     "metadata": {},
     "output_type": "display_data"
    },
    {
     "data": {
      "application/vnd.jupyter.widget-view+json": {
       "model_id": "a5f8d9051d6843d3a39a7af6ca70cd67",
       "version_major": 2,
       "version_minor": 0
      },
      "text/plain": [
       "e124:   0%|          | 0/63 [00:00<?, ?it/s]"
      ]
     },
     "metadata": {},
     "output_type": "display_data"
    },
    {
     "data": {
      "application/vnd.jupyter.widget-view+json": {
       "model_id": "6e8880ea54944ae7b32020360e6164d9",
       "version_major": 2,
       "version_minor": 0
      },
      "text/plain": [
       "e125:   0%|          | 0/63 [00:00<?, ?it/s]"
      ]
     },
     "metadata": {},
     "output_type": "display_data"
    },
    {
     "data": {
      "application/vnd.jupyter.widget-view+json": {
       "model_id": "fb8ebefd36ec45f6b939dbee8e6d511f",
       "version_major": 2,
       "version_minor": 0
      },
      "text/plain": [
       "e126:   0%|          | 0/63 [00:00<?, ?it/s]"
      ]
     },
     "metadata": {},
     "output_type": "display_data"
    },
    {
     "data": {
      "application/vnd.jupyter.widget-view+json": {
       "model_id": "0a544531b2664438beeeec772c40c12e",
       "version_major": 2,
       "version_minor": 0
      },
      "text/plain": [
       "e127:   0%|          | 0/63 [00:00<?, ?it/s]"
      ]
     },
     "metadata": {},
     "output_type": "display_data"
    },
    {
     "data": {
      "application/vnd.jupyter.widget-view+json": {
       "model_id": "d18728dce0c1433d913074c897689015",
       "version_major": 2,
       "version_minor": 0
      },
      "text/plain": [
       "e128:   0%|          | 0/63 [00:00<?, ?it/s]"
      ]
     },
     "metadata": {},
     "output_type": "display_data"
    },
    {
     "data": {
      "application/vnd.jupyter.widget-view+json": {
       "model_id": "d7186e03730b470a8e830c7660ecadc0",
       "version_major": 2,
       "version_minor": 0
      },
      "text/plain": [
       "e129:   0%|          | 0/63 [00:00<?, ?it/s]"
      ]
     },
     "metadata": {},
     "output_type": "display_data"
    },
    {
     "data": {
      "application/vnd.jupyter.widget-view+json": {
       "model_id": "f634076a2b3e4db3896b90d14eb0b662",
       "version_major": 2,
       "version_minor": 0
      },
      "text/plain": [
       "e130:   0%|          | 0/63 [00:00<?, ?it/s]"
      ]
     },
     "metadata": {},
     "output_type": "display_data"
    },
    {
     "data": {
      "application/vnd.jupyter.widget-view+json": {
       "model_id": "a9206fd67bee45d7aa68b081d09c14f3",
       "version_major": 2,
       "version_minor": 0
      },
      "text/plain": [
       "e131:   0%|          | 0/63 [00:00<?, ?it/s]"
      ]
     },
     "metadata": {},
     "output_type": "display_data"
    },
    {
     "data": {
      "application/vnd.jupyter.widget-view+json": {
       "model_id": "9862d585b8e743d685408b4091d5c49d",
       "version_major": 2,
       "version_minor": 0
      },
      "text/plain": [
       "e132:   0%|          | 0/63 [00:00<?, ?it/s]"
      ]
     },
     "metadata": {},
     "output_type": "display_data"
    },
    {
     "data": {
      "application/vnd.jupyter.widget-view+json": {
       "model_id": "5606cfb33766446aaac2c54a870d97c1",
       "version_major": 2,
       "version_minor": 0
      },
      "text/plain": [
       "e133:   0%|          | 0/63 [00:00<?, ?it/s]"
      ]
     },
     "metadata": {},
     "output_type": "display_data"
    },
    {
     "data": {
      "application/vnd.jupyter.widget-view+json": {
       "model_id": "8f6e6547ff7b44b1850f55858b2de14b",
       "version_major": 2,
       "version_minor": 0
      },
      "text/plain": [
       "e134:   0%|          | 0/63 [00:00<?, ?it/s]"
      ]
     },
     "metadata": {},
     "output_type": "display_data"
    },
    {
     "data": {
      "application/vnd.jupyter.widget-view+json": {
       "model_id": "f109c76063384c7d8700b03ce285e6d7",
       "version_major": 2,
       "version_minor": 0
      },
      "text/plain": [
       "e135:   0%|          | 0/63 [00:00<?, ?it/s]"
      ]
     },
     "metadata": {},
     "output_type": "display_data"
    },
    {
     "data": {
      "application/vnd.jupyter.widget-view+json": {
       "model_id": "c89352f720b04806b2d2d8a707d68f2b",
       "version_major": 2,
       "version_minor": 0
      },
      "text/plain": [
       "e136:   0%|          | 0/63 [00:00<?, ?it/s]"
      ]
     },
     "metadata": {},
     "output_type": "display_data"
    },
    {
     "data": {
      "application/vnd.jupyter.widget-view+json": {
       "model_id": "22d2c668481d473993b8854eee9ba116",
       "version_major": 2,
       "version_minor": 0
      },
      "text/plain": [
       "e137:   0%|          | 0/63 [00:00<?, ?it/s]"
      ]
     },
     "metadata": {},
     "output_type": "display_data"
    },
    {
     "data": {
      "application/vnd.jupyter.widget-view+json": {
       "model_id": "b3d5748802a043c18a62c01797cf300c",
       "version_major": 2,
       "version_minor": 0
      },
      "text/plain": [
       "e138:   0%|          | 0/63 [00:00<?, ?it/s]"
      ]
     },
     "metadata": {},
     "output_type": "display_data"
    },
    {
     "data": {
      "application/vnd.jupyter.widget-view+json": {
       "model_id": "fd2d0ca5b90d419eadc95a8ed9fa975f",
       "version_major": 2,
       "version_minor": 0
      },
      "text/plain": [
       "e139:   0%|          | 0/63 [00:00<?, ?it/s]"
      ]
     },
     "metadata": {},
     "output_type": "display_data"
    },
    {
     "data": {
      "application/vnd.jupyter.widget-view+json": {
       "model_id": "9c8f2a436b64474493fff994dcd96410",
       "version_major": 2,
       "version_minor": 0
      },
      "text/plain": [
       "e140:   0%|          | 0/63 [00:00<?, ?it/s]"
      ]
     },
     "metadata": {},
     "output_type": "display_data"
    },
    {
     "data": {
      "application/vnd.jupyter.widget-view+json": {
       "model_id": "47e747389abb42e0ba1073e349317d46",
       "version_major": 2,
       "version_minor": 0
      },
      "text/plain": [
       "e141:   0%|          | 0/63 [00:00<?, ?it/s]"
      ]
     },
     "metadata": {},
     "output_type": "display_data"
    },
    {
     "data": {
      "application/vnd.jupyter.widget-view+json": {
       "model_id": "7ed955e95f65402689d15779b9bcd7c1",
       "version_major": 2,
       "version_minor": 0
      },
      "text/plain": [
       "e142:   0%|          | 0/63 [00:00<?, ?it/s]"
      ]
     },
     "metadata": {},
     "output_type": "display_data"
    },
    {
     "data": {
      "application/vnd.jupyter.widget-view+json": {
       "model_id": "a5be6b47cd2b4a0480c3e1d651ea87e8",
       "version_major": 2,
       "version_minor": 0
      },
      "text/plain": [
       "e143:   0%|          | 0/63 [00:00<?, ?it/s]"
      ]
     },
     "metadata": {},
     "output_type": "display_data"
    },
    {
     "data": {
      "application/vnd.jupyter.widget-view+json": {
       "model_id": "1152223828dc4d87be174a9c27ab8e62",
       "version_major": 2,
       "version_minor": 0
      },
      "text/plain": [
       "e144:   0%|          | 0/63 [00:00<?, ?it/s]"
      ]
     },
     "metadata": {},
     "output_type": "display_data"
    },
    {
     "data": {
      "application/vnd.jupyter.widget-view+json": {
       "model_id": "44b2840e2f0c4d479ca1f3cfe1665988",
       "version_major": 2,
       "version_minor": 0
      },
      "text/plain": [
       "e145:   0%|          | 0/63 [00:00<?, ?it/s]"
      ]
     },
     "metadata": {},
     "output_type": "display_data"
    },
    {
     "data": {
      "application/vnd.jupyter.widget-view+json": {
       "model_id": "17815544f3fd4710ac821de7f5a513e9",
       "version_major": 2,
       "version_minor": 0
      },
      "text/plain": [
       "e146:   0%|          | 0/63 [00:00<?, ?it/s]"
      ]
     },
     "metadata": {},
     "output_type": "display_data"
    },
    {
     "data": {
      "application/vnd.jupyter.widget-view+json": {
       "model_id": "90c503c44407400883d22866b1f12ccc",
       "version_major": 2,
       "version_minor": 0
      },
      "text/plain": [
       "e147:   0%|          | 0/63 [00:00<?, ?it/s]"
      ]
     },
     "metadata": {},
     "output_type": "display_data"
    },
    {
     "data": {
      "application/vnd.jupyter.widget-view+json": {
       "model_id": "1554b321e99b406ca547ab7d4999c1a6",
       "version_major": 2,
       "version_minor": 0
      },
      "text/plain": [
       "e148:   0%|          | 0/63 [00:00<?, ?it/s]"
      ]
     },
     "metadata": {},
     "output_type": "display_data"
    },
    {
     "data": {
      "application/vnd.jupyter.widget-view+json": {
       "model_id": "fcbeb765f0d6487381fd83bfe66a9068",
       "version_major": 2,
       "version_minor": 0
      },
      "text/plain": [
       "e149:   0%|          | 0/63 [00:00<?, ?it/s]"
      ]
     },
     "metadata": {},
     "output_type": "display_data"
    },
    {
     "data": {
      "application/vnd.jupyter.widget-view+json": {
       "model_id": "cb14c67276b4437fa4956d4351edd536",
       "version_major": 2,
       "version_minor": 0
      },
      "text/plain": [
       "e150:   0%|          | 0/63 [00:00<?, ?it/s]"
      ]
     },
     "metadata": {},
     "output_type": "display_data"
    },
    {
     "data": {
      "application/vnd.jupyter.widget-view+json": {
       "model_id": "96d4bdb7eaec405ea6ad7e0cfaeefb19",
       "version_major": 2,
       "version_minor": 0
      },
      "text/plain": [
       "e151:   0%|          | 0/63 [00:00<?, ?it/s]"
      ]
     },
     "metadata": {},
     "output_type": "display_data"
    },
    {
     "data": {
      "application/vnd.jupyter.widget-view+json": {
       "model_id": "9e8a792de1b34e8a8a0d9ff1d717a5e5",
       "version_major": 2,
       "version_minor": 0
      },
      "text/plain": [
       "e152:   0%|          | 0/63 [00:00<?, ?it/s]"
      ]
     },
     "metadata": {},
     "output_type": "display_data"
    },
    {
     "data": {
      "application/vnd.jupyter.widget-view+json": {
       "model_id": "34df80bd798f4edd80a7e0731ecd0313",
       "version_major": 2,
       "version_minor": 0
      },
      "text/plain": [
       "e153:   0%|          | 0/63 [00:00<?, ?it/s]"
      ]
     },
     "metadata": {},
     "output_type": "display_data"
    },
    {
     "data": {
      "application/vnd.jupyter.widget-view+json": {
       "model_id": "07855d2428144867a5e35da34796aaac",
       "version_major": 2,
       "version_minor": 0
      },
      "text/plain": [
       "e154:   0%|          | 0/63 [00:00<?, ?it/s]"
      ]
     },
     "metadata": {},
     "output_type": "display_data"
    },
    {
     "data": {
      "application/vnd.jupyter.widget-view+json": {
       "model_id": "145968dafa3741afa4009b144e3e4e5b",
       "version_major": 2,
       "version_minor": 0
      },
      "text/plain": [
       "e155:   0%|          | 0/63 [00:00<?, ?it/s]"
      ]
     },
     "metadata": {},
     "output_type": "display_data"
    },
    {
     "data": {
      "application/vnd.jupyter.widget-view+json": {
       "model_id": "b0dfa33f490e432db0717593191cc5f6",
       "version_major": 2,
       "version_minor": 0
      },
      "text/plain": [
       "e156:   0%|          | 0/63 [00:00<?, ?it/s]"
      ]
     },
     "metadata": {},
     "output_type": "display_data"
    },
    {
     "data": {
      "application/vnd.jupyter.widget-view+json": {
       "model_id": "f2129fd032d047afaebc355dbacb4b02",
       "version_major": 2,
       "version_minor": 0
      },
      "text/plain": [
       "e157:   0%|          | 0/63 [00:00<?, ?it/s]"
      ]
     },
     "metadata": {},
     "output_type": "display_data"
    },
    {
     "data": {
      "application/vnd.jupyter.widget-view+json": {
       "model_id": "cd27b64a72aa4182bab7e5a6795dcdb4",
       "version_major": 2,
       "version_minor": 0
      },
      "text/plain": [
       "e158:   0%|          | 0/63 [00:00<?, ?it/s]"
      ]
     },
     "metadata": {},
     "output_type": "display_data"
    },
    {
     "data": {
      "application/vnd.jupyter.widget-view+json": {
       "model_id": "cf17ecce8279449ab968c5f069493443",
       "version_major": 2,
       "version_minor": 0
      },
      "text/plain": [
       "e159:   0%|          | 0/63 [00:00<?, ?it/s]"
      ]
     },
     "metadata": {},
     "output_type": "display_data"
    },
    {
     "data": {
      "application/vnd.jupyter.widget-view+json": {
       "model_id": "1db6e1e796784b98a4e8f0c99c5fd2b5",
       "version_major": 2,
       "version_minor": 0
      },
      "text/plain": [
       "e160:   0%|          | 0/63 [00:00<?, ?it/s]"
      ]
     },
     "metadata": {},
     "output_type": "display_data"
    },
    {
     "data": {
      "application/vnd.jupyter.widget-view+json": {
       "model_id": "d75e9d32a812435c9cfdd01d96de2069",
       "version_major": 2,
       "version_minor": 0
      },
      "text/plain": [
       "e161:   0%|          | 0/63 [00:00<?, ?it/s]"
      ]
     },
     "metadata": {},
     "output_type": "display_data"
    },
    {
     "data": {
      "application/vnd.jupyter.widget-view+json": {
       "model_id": "e174d9bb32294a1f81926b8191584db9",
       "version_major": 2,
       "version_minor": 0
      },
      "text/plain": [
       "e162:   0%|          | 0/63 [00:00<?, ?it/s]"
      ]
     },
     "metadata": {},
     "output_type": "display_data"
    },
    {
     "data": {
      "application/vnd.jupyter.widget-view+json": {
       "model_id": "80f78f0f45224321a7e3e611b1107544",
       "version_major": 2,
       "version_minor": 0
      },
      "text/plain": [
       "e163:   0%|          | 0/63 [00:00<?, ?it/s]"
      ]
     },
     "metadata": {},
     "output_type": "display_data"
    },
    {
     "data": {
      "application/vnd.jupyter.widget-view+json": {
       "model_id": "f1ce5df613284b589dbe5a24e55a344a",
       "version_major": 2,
       "version_minor": 0
      },
      "text/plain": [
       "e164:   0%|          | 0/63 [00:00<?, ?it/s]"
      ]
     },
     "metadata": {},
     "output_type": "display_data"
    },
    {
     "data": {
      "application/vnd.jupyter.widget-view+json": {
       "model_id": "c39854fe117e4d8892914fac2ca6bf9f",
       "version_major": 2,
       "version_minor": 0
      },
      "text/plain": [
       "e165:   0%|          | 0/63 [00:00<?, ?it/s]"
      ]
     },
     "metadata": {},
     "output_type": "display_data"
    },
    {
     "data": {
      "application/vnd.jupyter.widget-view+json": {
       "model_id": "a42695c16aff49ed8113cdd57ee79e56",
       "version_major": 2,
       "version_minor": 0
      },
      "text/plain": [
       "e166:   0%|          | 0/63 [00:00<?, ?it/s]"
      ]
     },
     "metadata": {},
     "output_type": "display_data"
    },
    {
     "data": {
      "application/vnd.jupyter.widget-view+json": {
       "model_id": "d123e3840e1342938cac3532baf8bc30",
       "version_major": 2,
       "version_minor": 0
      },
      "text/plain": [
       "e167:   0%|          | 0/63 [00:00<?, ?it/s]"
      ]
     },
     "metadata": {},
     "output_type": "display_data"
    },
    {
     "data": {
      "application/vnd.jupyter.widget-view+json": {
       "model_id": "433789da98e543048d8a54cdb3bbeda5",
       "version_major": 2,
       "version_minor": 0
      },
      "text/plain": [
       "e168:   0%|          | 0/63 [00:00<?, ?it/s]"
      ]
     },
     "metadata": {},
     "output_type": "display_data"
    },
    {
     "data": {
      "application/vnd.jupyter.widget-view+json": {
       "model_id": "b4c51d7b1cb94c518c21eb0c6373c9e9",
       "version_major": 2,
       "version_minor": 0
      },
      "text/plain": [
       "e169:   0%|          | 0/63 [00:00<?, ?it/s]"
      ]
     },
     "metadata": {},
     "output_type": "display_data"
    },
    {
     "data": {
      "application/vnd.jupyter.widget-view+json": {
       "model_id": "ed78c09fd3a6446cb1123b709afdcaa8",
       "version_major": 2,
       "version_minor": 0
      },
      "text/plain": [
       "e170:   0%|          | 0/63 [00:00<?, ?it/s]"
      ]
     },
     "metadata": {},
     "output_type": "display_data"
    },
    {
     "data": {
      "application/vnd.jupyter.widget-view+json": {
       "model_id": "3c5c9abe58bc424eb0c0d6211dffa872",
       "version_major": 2,
       "version_minor": 0
      },
      "text/plain": [
       "e171:   0%|          | 0/63 [00:00<?, ?it/s]"
      ]
     },
     "metadata": {},
     "output_type": "display_data"
    },
    {
     "data": {
      "application/vnd.jupyter.widget-view+json": {
       "model_id": "cc90eee3bb53461b9a01a12debe6cb28",
       "version_major": 2,
       "version_minor": 0
      },
      "text/plain": [
       "e172:   0%|          | 0/63 [00:00<?, ?it/s]"
      ]
     },
     "metadata": {},
     "output_type": "display_data"
    },
    {
     "data": {
      "application/vnd.jupyter.widget-view+json": {
       "model_id": "3b5e8ba5351243958f73bdd6c6c33e77",
       "version_major": 2,
       "version_minor": 0
      },
      "text/plain": [
       "e173:   0%|          | 0/63 [00:00<?, ?it/s]"
      ]
     },
     "metadata": {},
     "output_type": "display_data"
    },
    {
     "data": {
      "application/vnd.jupyter.widget-view+json": {
       "model_id": "faa072bf7162488b90822e96a73071c6",
       "version_major": 2,
       "version_minor": 0
      },
      "text/plain": [
       "e174:   0%|          | 0/63 [00:00<?, ?it/s]"
      ]
     },
     "metadata": {},
     "output_type": "display_data"
    },
    {
     "data": {
      "application/vnd.jupyter.widget-view+json": {
       "model_id": "fccef2fe5e584c0083c5558eb2fe63df",
       "version_major": 2,
       "version_minor": 0
      },
      "text/plain": [
       "e175:   0%|          | 0/63 [00:00<?, ?it/s]"
      ]
     },
     "metadata": {},
     "output_type": "display_data"
    },
    {
     "data": {
      "application/vnd.jupyter.widget-view+json": {
       "model_id": "641c99a1d1e2468fa257240acbfd51cf",
       "version_major": 2,
       "version_minor": 0
      },
      "text/plain": [
       "e176:   0%|          | 0/63 [00:00<?, ?it/s]"
      ]
     },
     "metadata": {},
     "output_type": "display_data"
    },
    {
     "data": {
      "application/vnd.jupyter.widget-view+json": {
       "model_id": "43c035f92bcc462cb64aab29376afd48",
       "version_major": 2,
       "version_minor": 0
      },
      "text/plain": [
       "e177:   0%|          | 0/63 [00:00<?, ?it/s]"
      ]
     },
     "metadata": {},
     "output_type": "display_data"
    },
    {
     "data": {
      "application/vnd.jupyter.widget-view+json": {
       "model_id": "0d3fe4f569a74989af47d1df9ba2306b",
       "version_major": 2,
       "version_minor": 0
      },
      "text/plain": [
       "e178:   0%|          | 0/63 [00:00<?, ?it/s]"
      ]
     },
     "metadata": {},
     "output_type": "display_data"
    },
    {
     "data": {
      "application/vnd.jupyter.widget-view+json": {
       "model_id": "d2dd258b7ac84877a4f2ac13db614fdb",
       "version_major": 2,
       "version_minor": 0
      },
      "text/plain": [
       "e179:   0%|          | 0/63 [00:00<?, ?it/s]"
      ]
     },
     "metadata": {},
     "output_type": "display_data"
    },
    {
     "data": {
      "application/vnd.jupyter.widget-view+json": {
       "model_id": "76f281cd33e04019aad98d4797cdba98",
       "version_major": 2,
       "version_minor": 0
      },
      "text/plain": [
       "e180:   0%|          | 0/63 [00:00<?, ?it/s]"
      ]
     },
     "metadata": {},
     "output_type": "display_data"
    },
    {
     "data": {
      "application/vnd.jupyter.widget-view+json": {
       "model_id": "9841a94946d848b49400f55f48d19b6c",
       "version_major": 2,
       "version_minor": 0
      },
      "text/plain": [
       "e181:   0%|          | 0/63 [00:00<?, ?it/s]"
      ]
     },
     "metadata": {},
     "output_type": "display_data"
    },
    {
     "data": {
      "application/vnd.jupyter.widget-view+json": {
       "model_id": "055f584f5bca4ae1bc07399a743ca5ca",
       "version_major": 2,
       "version_minor": 0
      },
      "text/plain": [
       "e182:   0%|          | 0/63 [00:00<?, ?it/s]"
      ]
     },
     "metadata": {},
     "output_type": "display_data"
    },
    {
     "data": {
      "application/vnd.jupyter.widget-view+json": {
       "model_id": "fc4ada0e7b7d4ef98ea2162f90923ee3",
       "version_major": 2,
       "version_minor": 0
      },
      "text/plain": [
       "e183:   0%|          | 0/63 [00:00<?, ?it/s]"
      ]
     },
     "metadata": {},
     "output_type": "display_data"
    },
    {
     "data": {
      "application/vnd.jupyter.widget-view+json": {
       "model_id": "f4fbe126319e4ec6a54e9ae5e0468b13",
       "version_major": 2,
       "version_minor": 0
      },
      "text/plain": [
       "e184:   0%|          | 0/63 [00:00<?, ?it/s]"
      ]
     },
     "metadata": {},
     "output_type": "display_data"
    },
    {
     "data": {
      "application/vnd.jupyter.widget-view+json": {
       "model_id": "d429ee7ec19440ca87c50b2142604a45",
       "version_major": 2,
       "version_minor": 0
      },
      "text/plain": [
       "e185:   0%|          | 0/63 [00:00<?, ?it/s]"
      ]
     },
     "metadata": {},
     "output_type": "display_data"
    },
    {
     "data": {
      "application/vnd.jupyter.widget-view+json": {
       "model_id": "06e268e964ef4f93afdbd5822462cb08",
       "version_major": 2,
       "version_minor": 0
      },
      "text/plain": [
       "e186:   0%|          | 0/63 [00:00<?, ?it/s]"
      ]
     },
     "metadata": {},
     "output_type": "display_data"
    },
    {
     "data": {
      "application/vnd.jupyter.widget-view+json": {
       "model_id": "225e2b18ae8744f4b7a2458c40d5c939",
       "version_major": 2,
       "version_minor": 0
      },
      "text/plain": [
       "e187:   0%|          | 0/63 [00:00<?, ?it/s]"
      ]
     },
     "metadata": {},
     "output_type": "display_data"
    },
    {
     "data": {
      "application/vnd.jupyter.widget-view+json": {
       "model_id": "90857a8e9fef4500bf8fceeb6b389bb1",
       "version_major": 2,
       "version_minor": 0
      },
      "text/plain": [
       "e188:   0%|          | 0/63 [00:00<?, ?it/s]"
      ]
     },
     "metadata": {},
     "output_type": "display_data"
    },
    {
     "data": {
      "application/vnd.jupyter.widget-view+json": {
       "model_id": "d1b32c34f9a64b6fbca99728d0a80954",
       "version_major": 2,
       "version_minor": 0
      },
      "text/plain": [
       "e189:   0%|          | 0/63 [00:00<?, ?it/s]"
      ]
     },
     "metadata": {},
     "output_type": "display_data"
    },
    {
     "data": {
      "application/vnd.jupyter.widget-view+json": {
       "model_id": "1b148533f91d4ca4af7d621a82d9f8f9",
       "version_major": 2,
       "version_minor": 0
      },
      "text/plain": [
       "e190:   0%|          | 0/63 [00:00<?, ?it/s]"
      ]
     },
     "metadata": {},
     "output_type": "display_data"
    },
    {
     "data": {
      "application/vnd.jupyter.widget-view+json": {
       "model_id": "d77489f169e447fcbebbcb301df66c4a",
       "version_major": 2,
       "version_minor": 0
      },
      "text/plain": [
       "e191:   0%|          | 0/63 [00:00<?, ?it/s]"
      ]
     },
     "metadata": {},
     "output_type": "display_data"
    },
    {
     "data": {
      "application/vnd.jupyter.widget-view+json": {
       "model_id": "bef950974bd64e08bd773b37b2a18957",
       "version_major": 2,
       "version_minor": 0
      },
      "text/plain": [
       "e192:   0%|          | 0/63 [00:00<?, ?it/s]"
      ]
     },
     "metadata": {},
     "output_type": "display_data"
    },
    {
     "data": {
      "application/vnd.jupyter.widget-view+json": {
       "model_id": "dcaaa9d1afb744338bf287e64b41a378",
       "version_major": 2,
       "version_minor": 0
      },
      "text/plain": [
       "e193:   0%|          | 0/63 [00:00<?, ?it/s]"
      ]
     },
     "metadata": {},
     "output_type": "display_data"
    },
    {
     "data": {
      "application/vnd.jupyter.widget-view+json": {
       "model_id": "f864adf58eb04e30981437de299268da",
       "version_major": 2,
       "version_minor": 0
      },
      "text/plain": [
       "e194:   0%|          | 0/63 [00:00<?, ?it/s]"
      ]
     },
     "metadata": {},
     "output_type": "display_data"
    },
    {
     "data": {
      "application/vnd.jupyter.widget-view+json": {
       "model_id": "e7dc9206a65e457a941ef244ecb8c7d5",
       "version_major": 2,
       "version_minor": 0
      },
      "text/plain": [
       "e195:   0%|          | 0/63 [00:00<?, ?it/s]"
      ]
     },
     "metadata": {},
     "output_type": "display_data"
    },
    {
     "data": {
      "application/vnd.jupyter.widget-view+json": {
       "model_id": "e1fd9def2c8d404fba5f2d04b9c652bd",
       "version_major": 2,
       "version_minor": 0
      },
      "text/plain": [
       "e196:   0%|          | 0/63 [00:00<?, ?it/s]"
      ]
     },
     "metadata": {},
     "output_type": "display_data"
    },
    {
     "data": {
      "application/vnd.jupyter.widget-view+json": {
       "model_id": "d0d0ee23fda64517b18e99fe902a3c47",
       "version_major": 2,
       "version_minor": 0
      },
      "text/plain": [
       "e197:   0%|          | 0/63 [00:00<?, ?it/s]"
      ]
     },
     "metadata": {},
     "output_type": "display_data"
    },
    {
     "data": {
      "application/vnd.jupyter.widget-view+json": {
       "model_id": "b8eda88f5d5e4c7abec8b91b4fa87189",
       "version_major": 2,
       "version_minor": 0
      },
      "text/plain": [
       "e198:   0%|          | 0/63 [00:00<?, ?it/s]"
      ]
     },
     "metadata": {},
     "output_type": "display_data"
    },
    {
     "data": {
      "application/vnd.jupyter.widget-view+json": {
       "model_id": "457dcf3ec0d7409aa503f81f7bd55209",
       "version_major": 2,
       "version_minor": 0
      },
      "text/plain": [
       "e199:   0%|          | 0/63 [00:00<?, ?it/s]"
      ]
     },
     "metadata": {},
     "output_type": "display_data"
    },
    {
     "data": {
      "application/vnd.jupyter.widget-view+json": {
       "model_id": "24f0db9984a747dabd2b2037ac743766",
       "version_major": 2,
       "version_minor": 0
      },
      "text/plain": [
       "e200:   0%|          | 0/63 [00:00<?, ?it/s]"
      ]
     },
     "metadata": {},
     "output_type": "display_data"
    },
    {
     "name": "stdout",
     "output_type": "stream",
     "text": [
      "Обучение завершено.\n",
      "UNet test error: 0.108 ± 0.061\n"
     ]
    }
   ],
   "source": [
    "import os, torch\n",
    "from load_ConDiff import load_ConDiff\n",
    "\n",
    "device = torch.device(\"cuda\" if torch.cuda.is_available() else \"cpu\")\n",
    "grid   = 64\n",
    "CHECKPOINT_PATH = \"unet_poisson64.pth\"         \n",
    "\n",
    "model_data, spec = get_UNet(grid, device)      \n",
    "model = model_data[\"model\"]\n",
    "\n",
    "save_dir = \"/kaggle/working/ConDiff/ConDiff\"\n",
    "(rhs_tr, x_tr), (rhs_ts, x_ts) = load_ConDiff(save_dir, \"poisson\", grid)\n",
    "\n",
    "rhs_tr = rhs_tr.reshape(-1, 1, grid, grid)\n",
    "x_tr   = x_tr.reshape(-1, 1, grid, grid)\n",
    "rhs_ts = rhs_ts.reshape(-1, 1, grid, grid)\n",
    "x_ts   = x_ts.reshape(-1, 1, grid, grid)\n",
    "\n",
    "feat_tr = torch.tensor(rhs_tr, dtype=torch.float32, device=device)\n",
    "targ_tr = torch.tensor(x_tr,   dtype=torch.float32, device=device)\n",
    "feat_ts = torch.tensor(rhs_ts, dtype=torch.float32, device=device)\n",
    "targ_ts = torch.tensor(x_ts,   dtype=torch.float32, device=device)\n",
    "\n",
    "if False and os.path.isfile(CHECKPOINT_PATH):\n",
    "    _, hist = load_checkpoint(model, path=CHECKPOINT_PATH, map_location=device)\n",
    "    history = hist\n",
    "    print(\"Чекпойнт найден — обучение пропущено.\")\n",
    "else:\n",
    "    model, h_tr, h_ts = train_model_pt(\n",
    "        model_data,\n",
    "        [feat_tr, feat_ts],\n",
    "        [targ_tr, targ_ts],\n",
    "        spec,\n",
    "        device,\n",
    "        use_huber=True,\n",
    "    )\n",
    "    history = {\"history_train\": h_tr, \"history_test\": h_ts}\n",
    "    print(\"Обучение завершено.\")\n",
    "\n",
    "model.eval()\n",
    "with torch.no_grad():\n",
    "    pred = model(feat_ts)\n",
    "    err  = relative_error(pred, targ_ts)\n",
    "\n",
    "print(f\"UNet test error: {err.mean():.3f} ± {err.std():.3f}\")\n"
   ]
  },
  {
   "cell_type": "markdown",
   "metadata": {},
   "source": []
  },
  {
   "cell_type": "code",
   "execution_count": 22,
   "metadata": {
    "execution": {
     "iopub.execute_input": "2025-05-29T05:23:50.655891Z",
     "iopub.status.busy": "2025-05-29T05:23:50.655588Z",
     "iopub.status.idle": "2025-05-29T05:23:50.660837Z",
     "shell.execute_reply": "2025-05-29T05:23:50.660089Z",
     "shell.execute_reply.started": "2025-05-29T05:23:50.655873Z"
    },
    "trusted": true
   },
   "outputs": [
    {
     "name": "stdout",
     "output_type": "stream",
     "text": [
      "UNet  test error: 0.108 ± 0.061\n"
     ]
    }
   ],
   "source": [
    "print(f\"UNet  test error: {err.mean():.3f} ± {err.std():.3f}\")\n"
   ]
  },
  {
   "cell_type": "code",
   "execution_count": null,
   "metadata": {
    "execution": {
     "iopub.execute_input": "2025-05-29T05:23:53.115556Z",
     "iopub.status.busy": "2025-05-29T05:23:53.115274Z",
     "iopub.status.idle": "2025-05-29T05:23:53.123654Z",
     "shell.execute_reply": "2025-05-29T05:23:53.122905Z",
     "shell.execute_reply.started": "2025-05-29T05:23:53.115534Z"
    },
    "trusted": true
   },
   "outputs": [],
   "source": [
    "import matplotlib.pyplot as plt\n",
    "import numpy as np\n",
    "try:\n",
    "    from IPython import display\n",
    "    IN_NOTEBOOK = True\n",
    "except ImportError:\n",
    "    IN_NOTEBOOK = False\n",
    "\n",
    "def plot_results(model, history, features_test, targets_test):\n",
    "    model.eval()\n",
    "    with torch.no_grad():\n",
    "        pred = model(features_test).cpu().numpy()[:, 0]   # (N,H,W)\n",
    "\n",
    "    targ = targets_test.cpu().numpy()[:, 0]\n",
    "\n",
    "    if IN_NOTEBOOK:\n",
    "        display.clear_output(wait=True)\n",
    "\n",
    "    plt.rcParams[\"font.family\"] = \"serif\"\n",
    "\n",
    "    fig, ax = plt.subplots(1, 3, figsize=(15, 4))\n",
    "\n",
    "    ax[0].set_title(\"Loss\")\n",
    "    ax[0].set_yscale(\"log\")\n",
    "    ax[0].plot(history[\"history_train\"], \"-\",  color=\"red\",   label=\"train\")\n",
    "    ax[0].plot(history[\"history_test\"],  \"-.\", color=\"green\", label=\"test\")\n",
    "    ax[0].legend()\n",
    "    ax[0].grid(ls=\"--\", alpha=0.5)\n",
    "    ax[0].set_xlabel(\"Epoch\"); ax[0].set_ylabel(\"Relative error\")\n",
    "    ax[0].spines[[\"top\", \"right\"]].set_visible(False)\n",
    "\n",
    "    im1 = ax[1].imshow(pred[0], cmap=\"viridis\")\n",
    "    ax[1].set_title(\"Prediction\")\n",
    "    plt.colorbar(im1, ax=ax[1], fraction=0.046)\n",
    "\n",
    "    im2 = ax[2].imshow(targ[0], cmap=\"viridis\")\n",
    "    ax[2].set_title(\"Target\")\n",
    "    plt.colorbar(im2, ax=ax[2], fraction=0.046)\n",
    "\n",
    "    plt.tight_layout()\n",
    "    plt.show()\n"
   ]
  },
  {
   "cell_type": "code",
   "execution_count": 24,
   "metadata": {
    "execution": {
     "iopub.execute_input": "2025-05-29T05:23:56.366695Z",
     "iopub.status.busy": "2025-05-29T05:23:56.366437Z",
     "iopub.status.idle": "2025-05-29T05:23:57.433521Z",
     "shell.execute_reply": "2025-05-29T05:23:57.432884Z",
     "shell.execute_reply.started": "2025-05-29T05:23:56.366667Z"
    },
    "trusted": true
   },
   "outputs": [
    {
     "data": {
      "image/png": "[encoded data removed]",
      "text/plain": [
       "<Figure size 1500x400 with 5 Axes>"
      ]
     },
     "metadata": {},
     "output_type": "display_data"
    }
   ],
   "source": [
    "plot_results(model, history, feat_ts, targ_ts)"
   ]
  },
  {
   "cell_type": "code",
   "execution_count": null,
   "metadata": {
    "execution": {
     "iopub.execute_input": "2025-05-29T05:26:18.591224Z",
     "iopub.status.busy": "2025-05-29T05:26:18.590595Z",
     "iopub.status.idle": "2025-05-29T05:26:19.238589Z",
     "shell.execute_reply": "2025-05-29T05:26:19.237827Z",
     "shell.execute_reply.started": "2025-05-29T05:26:18.591198Z"
    },
    "trusted": true
   },
   "outputs": [
    {
     "data": {
      "text/plain": [
       "<matplotlib.colorbar.Colorbar at 0x7d59d4354d90>"
      ]
     },
     "execution_count": 25,
     "metadata": {},
     "output_type": "execute_result"
    },
    {
     "data": {
      "image/png": "[encoded data removed]",
      "text/plain": [
       "<Figure size 1500x400 with 6 Axes>"
      ]
     },
     "metadata": {},
     "output_type": "display_data"
    }
   ],
   "source": [
    "import matplotlib.pyplot as plt\n",
    "\n",
    "idx = 0 \n",
    "pred_map = pred[idx, 0].cpu().numpy()\n",
    "targ_map = targ_ts[idx, 0].cpu().numpy()\n",
    "diff_map = pred_map - targ_map\n",
    "\n",
    "plt.figure(figsize=(15, 4))\n",
    "\n",
    "plt.subplot(1, 3, 1)\n",
    "plt.title(\"Prediction\")\n",
    "plt.imshow(pred_map, cmap=\"viridis\")\n",
    "plt.colorbar()\n",
    "\n",
    "plt.subplot(1, 3, 2)\n",
    "plt.title(\"Target\")\n",
    "plt.imshow(targ_map, cmap=\"viridis\")\n",
    "plt.colorbar()\n",
    "\n",
    "plt.subplot(1, 3, 3)\n",
    "plt.title(\"Diff (Pred - Target)\")\n",
    "plt.imshow(diff_map, cmap=\"seismic\", vmin=-abs(diff_map).max(), vmax=abs(diff_map).max())\n",
    "plt.colorbar()\n"
   ]
  },
  {
   "cell_type": "code",
   "execution_count": null,
   "metadata": {
    "execution": {
     "iopub.execute_input": "2025-05-29T05:28:24.125735Z",
     "iopub.status.busy": "2025-05-29T05:28:24.125420Z",
     "iopub.status.idle": "2025-05-29T05:28:25.073973Z",
     "shell.execute_reply": "2025-05-29T05:28:25.073036Z",
     "shell.execute_reply.started": "2025-05-29T05:28:24.125713Z"
    },
    "trusted": true
   },
   "outputs": [
    {
     "name": "stdout",
     "output_type": "stream",
     "text": [
      "Fitted: y ≈ 0.000213 * pred + 1.218231e-05\n"
     ]
    }
   ],
   "source": [
    "from sklearn.linear_model import LinearRegression\n",
    "\n",
    "y_pred = pred.view(pred.size(0), -1).cpu().numpy()\n",
    "y_true = targ_ts.view(targ_ts.size(0), -1).cpu().numpy()\n",
    "\n",
    "reg = LinearRegression().fit(y_pred, y_true)\n",
    "a = reg.coef_.mean()\n",
    "b = reg.intercept_.mean()\n",
    "\n",
    "print(f\"Fitted: y ≈ {a:.6f} * pred + {b:.6e}\")\n"
   ]
  },
  {
   "cell_type": "code",
   "execution_count": 33,
   "metadata": {
    "execution": {
     "iopub.execute_input": "2025-05-29T05:30:10.124875Z",
     "iopub.status.busy": "2025-05-29T05:30:10.124230Z",
     "iopub.status.idle": "2025-05-29T05:30:10.787842Z",
     "shell.execute_reply": "2025-05-29T05:30:10.787135Z",
     "shell.execute_reply.started": "2025-05-29T05:30:10.124852Z"
    },
    "trusted": true
   },
   "outputs": [
    {
     "data": {
      "image/png": "[encoded data removed]",
      "text/plain": [
       "<Figure size 1500x400 with 6 Axes>"
      ]
     },
     "metadata": {},
     "output_type": "display_data"
    }
   ],
   "source": [
    "import matplotlib.pyplot as plt\n",
    "\n",
    "idx = 0\n",
    "pred_map = pred[idx, 0].cpu()\n",
    "targ_map = targ_ts[idx, 0].cpu()\n",
    "diff_map = (pred_map - targ_map)\n",
    "\n",
    "vmin = min(pred_map.min().item(), targ_map.min().item())\n",
    "vmax = max(pred_map.max().item(), targ_map.max().item())\n",
    "\n",
    "plt.figure(figsize=(15, 4))\n",
    "\n",
    "plt.subplot(1, 3, 1)\n",
    "plt.title(\"Prediction\")\n",
    "plt.imshow(pred_map, cmap=\"viridis\", vmin=vmin, vmax=vmax)\n",
    "plt.colorbar()\n",
    "\n",
    "plt.subplot(1, 3, 2)\n",
    "plt.title(\"Target\")\n",
    "plt.imshow(targ_map, cmap=\"viridis\", vmin=vmin, vmax=vmax)\n",
    "plt.colorbar()\n",
    "\n",
    "plt.subplot(1, 3, 3)\n",
    "plt.title(\"Diff (Pred - Target)\")\n",
    "plt.imshow(diff_map, cmap=\"seismic\", vmin=-abs(diff_map).max(), vmax=abs(diff_map).max())\n",
    "plt.colorbar()\n",
    "\n",
    "plt.tight_layout()\n",
    "plt.show()\n"
   ]
  },
  {
   "cell_type": "code",
   "execution_count": null,
   "metadata": {
    "execution": {
     "iopub.execute_input": "2025-05-29T05:31:41.940660Z",
     "iopub.status.busy": "2025-05-29T05:31:41.940351Z",
     "iopub.status.idle": "2025-05-29T05:31:42.908083Z",
     "shell.execute_reply": "2025-05-29T05:31:42.907337Z",
     "shell.execute_reply.started": "2025-05-29T05:31:41.940638Z"
    },
    "trusted": true
   },
   "outputs": [
    {
     "data": {
      "image/png": "[encoded data removed]",
      "text/plain": [
       "<Figure size 1200x400 with 6 Axes>"
      ]
     },
     "metadata": {},
     "output_type": "display_data"
    }
   ],
   "source": [
    "import matplotlib.pyplot as plt\n",
    "\n",
    "idx = 0\n",
    "pred_map = pred[idx, 0].cpu()\n",
    "targ_map = targ_ts[idx, 0].cpu()\n",
    "\n",
    "vmin = targ_map.min().item()\n",
    "vmax = targ_map.max().item()\n",
    "\n",
    "plt.figure(figsize=(12, 4))\n",
    "\n",
    "plt.subplot(1, 3, 1)\n",
    "plt.title(\"Prediction (same scale as Target)\")\n",
    "plt.imshow(pred_map, cmap=\"viridis\", vmin=vmin, vmax=vmax)\n",
    "plt.colorbar()\n",
    "\n",
    "plt.subplot(1, 3, 2)\n",
    "plt.title(\"Target\")\n",
    "plt.imshow(targ_map, cmap=\"viridis\")\n",
    "plt.colorbar()\n",
    "\n",
    "plt.subplot(1, 3, 3)\n",
    "plt.title(\"Diff (Pred - Target)\")\n",
    "diff = pred_map - targ_map\n",
    "plt.imshow(diff, cmap=\"seismic\", vmin=-abs(diff).max(), vmax=abs(diff).max())\n",
    "plt.colorbar()\n",
    "\n",
    "plt.tight_layout()\n",
    "plt.show()\n"
   ]
  },
  {
   "cell_type": "markdown",
   "metadata": {},
   "source": []
  },
  {
   "cell_type": "code",
   "execution_count": null,
   "metadata": {
    "execution": {
     "iopub.execute_input": "2025-05-29T06:06:29.375285Z",
     "iopub.status.busy": "2025-05-29T06:06:29.374948Z",
     "iopub.status.idle": "2025-05-29T06:06:29.385269Z",
     "shell.execute_reply": "2025-05-29T06:06:29.384618Z",
     "shell.execute_reply.started": "2025-05-29T06:06:29.375263Z"
    },
    "trusted": true
   },
   "outputs": [
    {
     "data": {
      "text/html": [
       "<div>\n",
       "<style scoped>\n",
       "    .dataframe tbody tr th:only-of-type {\n",
       "        vertical-align: middle;\n",
       "    }\n",
       "\n",
       "    .dataframe tbody tr th {\n",
       "        vertical-align: top;\n",
       "    }\n",
       "\n",
       "    .dataframe thead th {\n",
       "        text-align: right;\n",
       "    }\n",
       "</style>\n",
       "<table border=\"1\" class=\"dataframe\">\n",
       "  <thead>\n",
       "    <tr style=\"text-align: right;\">\n",
       "      <th></th>\n",
       "      <th>Epoch</th>\n",
       "      <th>Train Error</th>\n",
       "      <th>Test Error</th>\n",
       "    </tr>\n",
       "  </thead>\n",
       "  <tbody>\n",
       "    <tr>\n",
       "      <th>0</th>\n",
       "      <td>20</td>\n",
       "      <td>64.485458</td>\n",
       "      <td>641.543213</td>\n",
       "    </tr>\n",
       "    <tr>\n",
       "      <th>1</th>\n",
       "      <td>40</td>\n",
       "      <td>3.233568</td>\n",
       "      <td>2.780540</td>\n",
       "    </tr>\n",
       "    <tr>\n",
       "      <th>2</th>\n",
       "      <td>60</td>\n",
       "      <td>4.373380</td>\n",
       "      <td>1.532856</td>\n",
       "    </tr>\n",
       "    <tr>\n",
       "      <th>3</th>\n",
       "      <td>80</td>\n",
       "      <td>4.154348</td>\n",
       "      <td>17.242735</td>\n",
       "    </tr>\n",
       "    <tr>\n",
       "      <th>4</th>\n",
       "      <td>100</td>\n",
       "      <td>3.045391</td>\n",
       "      <td>6.571032</td>\n",
       "    </tr>\n",
       "    <tr>\n",
       "      <th>5</th>\n",
       "      <td>120</td>\n",
       "      <td>1.485966</td>\n",
       "      <td>2.101836</td>\n",
       "    </tr>\n",
       "    <tr>\n",
       "      <th>6</th>\n",
       "      <td>140</td>\n",
       "      <td>0.539415</td>\n",
       "      <td>0.444284</td>\n",
       "    </tr>\n",
       "    <tr>\n",
       "      <th>7</th>\n",
       "      <td>160</td>\n",
       "      <td>0.466404</td>\n",
       "      <td>0.237865</td>\n",
       "    </tr>\n",
       "    <tr>\n",
       "      <th>8</th>\n",
       "      <td>180</td>\n",
       "      <td>0.550335</td>\n",
       "      <td>0.098216</td>\n",
       "    </tr>\n",
       "    <tr>\n",
       "      <th>9</th>\n",
       "      <td>200</td>\n",
       "      <td>0.514770</td>\n",
       "      <td>0.062364</td>\n",
       "    </tr>\n",
       "  </tbody>\n",
       "</table>\n",
       "</div>"
      ],
      "text/plain": [
       "   Epoch  Train Error  Test Error\n",
       "0     20    64.485458  641.543213\n",
       "1     40     3.233568    2.780540\n",
       "2     60     4.373380    1.532856\n",
       "3     80     4.154348   17.242735\n",
       "4    100     3.045391    6.571032\n",
       "5    120     1.485966    2.101836\n",
       "6    140     0.539415    0.444284\n",
       "7    160     0.466404    0.237865\n",
       "8    180     0.550335    0.098216\n",
       "9    200     0.514770    0.062364"
      ]
     },
     "execution_count": 42,
     "metadata": {},
     "output_type": "execute_result"
    }
   ],
   "source": [
    "import pandas as pd\n",
    "\n",
    "epochs = list(range(1, len(history[\"history_train\"]) + 1))\n",
    "train_vals = history[\"history_train\"]\n",
    "test_vals = history[\"history_test\"]\n",
    "\n",
    "selected_epochs = list(range(20, len(train_vals) + 1, 20))\n",
    "table_data = {\n",
    "    \"Epoch\": selected_epochs,\n",
    "    \"Train Error\": [train_vals[e - 1] for e in selected_epochs],\n",
    "    \"Test Error\": [test_vals[e - 1] for e in selected_epochs],\n",
    "}\n",
    "\n",
    "df_hist = pd.DataFrame(table_data)\n",
    "df_hist\n"
   ]
  }
 ],
 "metadata": {
  "kaggle": {
   "accelerator": "gpu",
   "dataSources": [],
   "dockerImageVersionId": 31040,
   "isGpuEnabled": true,
   "isInternetEnabled": true,
   "language": "python",
   "sourceType": "notebook"
  },
  "kernelspec": {
   "display_name": "Python 3",
   "language": "python",
   "name": "python3"
  },
  "language_info": {
   "codemirror_mode": {
    "name": "ipython",
    "version": 3
   },
   "file_extension": ".py",
   "mimetype": "text/x-python",
   "name": "python",
   "nbconvert_exporter": "python",
   "pygments_lexer": "ipython3",
   "version": "3.11.11"
  }
 },
 "nbformat": 4,
 "nbformat_minor": 4
}
